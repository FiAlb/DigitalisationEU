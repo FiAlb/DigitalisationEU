{
 "cells": [
  {
   "cell_type": "markdown",
   "metadata": {},
   "source": [
    "# __Analysis: Do people in countries with lower income inequality tend to have advanced digital skills?__"
   ]
  },
  {
   "cell_type": "markdown",
   "metadata": {},
   "source": [
    "Importing necessary libraries"
   ]
  },
  {
   "cell_type": "code",
   "execution_count": 1,
   "metadata": {},
   "outputs": [],
   "source": [
    "import pandas as pd\n",
    "import sql_functions as sf\n",
    "import matplotlib.pyplot as plt\n",
    "import seaborn as sns\n",
    "from scipy import stats\n",
    "from scipy.stats import pearsonr\n"
   ]
  },
  {
   "cell_type": "markdown",
   "metadata": {},
   "source": [
    "# 1) Getting, Cleaning and Preparing the Gini Coefficient Data"
   ]
  },
  {
   "cell_type": "markdown",
   "metadata": {},
   "source": [
    "### Getting the Gini Coefficient data"
   ]
  },
  {
   "cell_type": "code",
   "execution_count": 2,
   "metadata": {},
   "outputs": [],
   "source": [
    "df_gini = pd.read_csv('./Data/economic-inequality-gini-index.csv')"
   ]
  },
  {
   "cell_type": "code",
   "execution_count": 3,
   "metadata": {},
   "outputs": [
    {
     "data": {
      "text/html": [
       "<div>\n",
       "<style scoped>\n",
       "    .dataframe tbody tr th:only-of-type {\n",
       "        vertical-align: middle;\n",
       "    }\n",
       "\n",
       "    .dataframe tbody tr th {\n",
       "        vertical-align: top;\n",
       "    }\n",
       "\n",
       "    .dataframe thead th {\n",
       "        text-align: right;\n",
       "    }\n",
       "</style>\n",
       "<table border=\"1\" class=\"dataframe\">\n",
       "  <thead>\n",
       "    <tr style=\"text-align: right;\">\n",
       "      <th></th>\n",
       "      <th>Entity</th>\n",
       "      <th>Code</th>\n",
       "      <th>Year</th>\n",
       "      <th>Gini coefficient</th>\n",
       "    </tr>\n",
       "  </thead>\n",
       "  <tbody>\n",
       "    <tr>\n",
       "      <th>0</th>\n",
       "      <td>Albania</td>\n",
       "      <td>ALB</td>\n",
       "      <td>1996</td>\n",
       "      <td>0.270103</td>\n",
       "    </tr>\n",
       "    <tr>\n",
       "      <th>1</th>\n",
       "      <td>Albania</td>\n",
       "      <td>ALB</td>\n",
       "      <td>2002</td>\n",
       "      <td>0.317390</td>\n",
       "    </tr>\n",
       "    <tr>\n",
       "      <th>2</th>\n",
       "      <td>Albania</td>\n",
       "      <td>ALB</td>\n",
       "      <td>2005</td>\n",
       "      <td>0.305957</td>\n",
       "    </tr>\n",
       "    <tr>\n",
       "      <th>3</th>\n",
       "      <td>Albania</td>\n",
       "      <td>ALB</td>\n",
       "      <td>2008</td>\n",
       "      <td>0.299847</td>\n",
       "    </tr>\n",
       "    <tr>\n",
       "      <th>4</th>\n",
       "      <td>Albania</td>\n",
       "      <td>ALB</td>\n",
       "      <td>2012</td>\n",
       "      <td>0.289605</td>\n",
       "    </tr>\n",
       "  </tbody>\n",
       "</table>\n",
       "</div>"
      ],
      "text/plain": [
       "    Entity Code  Year  Gini coefficient\n",
       "0  Albania  ALB  1996          0.270103\n",
       "1  Albania  ALB  2002          0.317390\n",
       "2  Albania  ALB  2005          0.305957\n",
       "3  Albania  ALB  2008          0.299847\n",
       "4  Albania  ALB  2012          0.289605"
      ]
     },
     "execution_count": 3,
     "metadata": {},
     "output_type": "execute_result"
    }
   ],
   "source": [
    "df_gini.head()"
   ]
  },
  {
   "cell_type": "code",
   "execution_count": 4,
   "metadata": {},
   "outputs": [
    {
     "name": "stdout",
     "output_type": "stream",
     "text": [
      "int64\n"
     ]
    }
   ],
   "source": [
    "print(df_gini['Year'].dtype)\n",
    "\n",
    "#changing of datatypes not necessary in this case because we only use the year for filtering purposes"
   ]
  },
  {
   "cell_type": "markdown",
   "metadata": {},
   "source": [
    "### Checking available years to get the most current year for the analysis:"
   ]
  },
  {
   "cell_type": "code",
   "execution_count": 5,
   "metadata": {},
   "outputs": [
    {
     "data": {
      "text/plain": [
       "array([1996, 2002, 2005, 2008, 2012, 2014, 2015, 2016, 2017, 2018, 2019,\n",
       "       2020, 1988, 1995, 2011, 2000, 1980, 1986, 1987, 1991, 1992, 1993,\n",
       "       1994, 1997, 1998, 1999, 2001, 2003, 2004, 2006, 2007, 2009, 2010,\n",
       "       2013, 2021, 2022, 1981, 1985, 1989, 1983, 1990, 1982, 1984, 1971,\n",
       "       1973, 1975, 1977, 1979, 1970, 2023, 1978, 1968, 1969, 1972, 1974,\n",
       "       1976, 1963, 1964, 1965, 1966, 1967])"
      ]
     },
     "execution_count": 5,
     "metadata": {},
     "output_type": "execute_result"
    }
   ],
   "source": [
    "df_gini.Year.unique()"
   ]
  },
  {
   "cell_type": "code",
   "execution_count": 6,
   "metadata": {},
   "outputs": [],
   "source": [
    "df_gini_2021 = df_gini[df_gini['Year'] == 2021]"
   ]
  },
  {
   "cell_type": "code",
   "execution_count": 7,
   "metadata": {},
   "outputs": [
    {
     "data": {
      "text/html": [
       "<div>\n",
       "<style scoped>\n",
       "    .dataframe tbody tr th:only-of-type {\n",
       "        vertical-align: middle;\n",
       "    }\n",
       "\n",
       "    .dataframe tbody tr th {\n",
       "        vertical-align: top;\n",
       "    }\n",
       "\n",
       "    .dataframe thead th {\n",
       "        text-align: right;\n",
       "    }\n",
       "</style>\n",
       "<table border=\"1\" class=\"dataframe\">\n",
       "  <thead>\n",
       "    <tr style=\"text-align: right;\">\n",
       "      <th></th>\n",
       "      <th>Entity</th>\n",
       "      <th>Code</th>\n",
       "      <th>Year</th>\n",
       "      <th>Gini coefficient</th>\n",
       "    </tr>\n",
       "  </thead>\n",
       "  <tbody>\n",
       "    <tr>\n",
       "      <th>50</th>\n",
       "      <td>Argentina (urban)</td>\n",
       "      <td>NaN</td>\n",
       "      <td>2021</td>\n",
       "      <td>0.424468</td>\n",
       "    </tr>\n",
       "    <tr>\n",
       "      <th>73</th>\n",
       "      <td>Armenia</td>\n",
       "      <td>ARM</td>\n",
       "      <td>2021</td>\n",
       "      <td>0.279401</td>\n",
       "    </tr>\n",
       "    <tr>\n",
       "      <th>112</th>\n",
       "      <td>Austria</td>\n",
       "      <td>AUT</td>\n",
       "      <td>2021</td>\n",
       "      <td>0.307022</td>\n",
       "    </tr>\n",
       "    <tr>\n",
       "      <th>176</th>\n",
       "      <td>Belgium</td>\n",
       "      <td>BEL</td>\n",
       "      <td>2021</td>\n",
       "      <td>0.265777</td>\n",
       "    </tr>\n",
       "    <tr>\n",
       "      <th>187</th>\n",
       "      <td>Benin</td>\n",
       "      <td>BEN</td>\n",
       "      <td>2021</td>\n",
       "      <td>0.343958</td>\n",
       "    </tr>\n",
       "  </tbody>\n",
       "</table>\n",
       "</div>"
      ],
      "text/plain": [
       "                Entity Code  Year  Gini coefficient\n",
       "50   Argentina (urban)  NaN  2021          0.424468\n",
       "73             Armenia  ARM  2021          0.279401\n",
       "112            Austria  AUT  2021          0.307022\n",
       "176            Belgium  BEL  2021          0.265777\n",
       "187              Benin  BEN  2021          0.343958"
      ]
     },
     "execution_count": 7,
     "metadata": {},
     "output_type": "execute_result"
    }
   ],
   "source": [
    "df_gini_2021.head()"
   ]
  },
  {
   "cell_type": "code",
   "execution_count": 8,
   "metadata": {},
   "outputs": [
    {
     "data": {
      "text/plain": [
       "array(['Argentina (urban)', 'Armenia', 'Austria', 'Belgium', 'Benin',\n",
       "       'Bolivia', 'Brazil', 'Bulgaria', 'Burkina Faso', 'Cameroon',\n",
       "       'Central African Republic', 'Colombia', 'Costa Rica',\n",
       "       \"Cote d'Ivoire\", 'Croatia', 'Cyprus', 'Czechia', 'Denmark',\n",
       "       'Dominican Republic', 'Ecuador', 'El Salvador', 'Estonia',\n",
       "       'Finland', 'France', 'Georgia', 'Greece', 'Guinea-Bissau',\n",
       "       'Hungary', 'India', 'India (rural)', 'India (urban)', 'Indonesia',\n",
       "       'Indonesia (rural)', 'Indonesia (urban)', 'Iran', 'Ireland',\n",
       "       'Israel', 'Italy', 'Jamaica', 'Kazakhstan', 'Kenya', 'Kyrgyzstan',\n",
       "       'Latvia', 'Lithuania', 'Luxembourg', 'Malaysia', 'Mali', 'Moldova',\n",
       "       'Montenegro', 'Netherlands', 'Niger', 'Panama', 'Paraguay', 'Peru',\n",
       "       'Philippines', 'Poland', 'Portugal', 'Romania', 'Senegal',\n",
       "       'Serbia', 'Slovakia', 'Slovenia', 'Spain', 'Sweden', 'Taiwan',\n",
       "       'Thailand', 'Togo', 'Tonga', 'Tunisia', 'Turkey', 'United Kingdom',\n",
       "       'United States', 'Uruguay'], dtype=object)"
      ]
     },
     "execution_count": 8,
     "metadata": {},
     "output_type": "execute_result"
    }
   ],
   "source": [
    "df_gini_2021.Entity.unique()"
   ]
  },
  {
   "cell_type": "code",
   "execution_count": 9,
   "metadata": {},
   "outputs": [
    {
     "data": {
      "text/plain": [
       "73"
      ]
     },
     "execution_count": 9,
     "metadata": {},
     "output_type": "execute_result"
    }
   ],
   "source": [
    "df_gini_2021.Entity.nunique()"
   ]
  },
  {
   "cell_type": "markdown",
   "metadata": {},
   "source": [
    "The Gini Coefficient offers worldwide data --> we have to filter the data for EU Countries."
   ]
  },
  {
   "cell_type": "markdown",
   "metadata": {},
   "source": [
    "### Comparing data with EU-Countries list to check if all countries are present in data from the selected year 2021:"
   ]
  },
  {
   "cell_type": "markdown",
   "metadata": {},
   "source": [
    "Creating a list of EU Countries from our Eurostat Dataset"
   ]
  },
  {
   "cell_type": "code",
   "execution_count": 10,
   "metadata": {},
   "outputs": [
    {
     "data": {
      "text/plain": [
       "['Austria',\n",
       " 'Belgium',\n",
       " 'Bulgaria',\n",
       " 'Croatia',\n",
       " 'Cyprus',\n",
       " 'Czechia',\n",
       " 'Denmark',\n",
       " 'Estonia',\n",
       " 'European Union - 27 countries (from 2020)',\n",
       " 'Finland',\n",
       " 'France',\n",
       " 'Germany',\n",
       " 'Greece',\n",
       " 'Hungary',\n",
       " 'Ireland',\n",
       " 'Italy',\n",
       " 'Latvia',\n",
       " 'Lithuania',\n",
       " 'Luxembourg',\n",
       " 'Malta',\n",
       " 'Netherlands',\n",
       " 'Poland',\n",
       " 'Portugal',\n",
       " 'Romania',\n",
       " 'Slovakia',\n",
       " 'Slovenia',\n",
       " 'Spain',\n",
       " 'Sweden']"
      ]
     },
     "execution_count": 10,
     "metadata": {},
     "output_type": "execute_result"
    }
   ],
   "source": [
    "country_mapping = {\n",
    "    'AT': 'Austria',\n",
    "    'BE': 'Belgium',\n",
    "    'BG': 'Bulgaria',\n",
    "    'HR': 'Croatia',\n",
    "    'CY': 'Cyprus',\n",
    "    'CZ': 'Czechia',\n",
    "    'DK': 'Denmark',\n",
    "    'EE': 'Estonia',\n",
    "    'EU': 'European Union - 27 countries (from 2020)',\n",
    "    'FI': 'Finland',\n",
    "    'FR': 'France',\n",
    "    'DE': 'Germany',\n",
    "    'EL': 'Greece',  # Greece is often abbreviated as EL in EU datasets\n",
    "    'HU': 'Hungary',\n",
    "    'IE': 'Ireland',\n",
    "    'IT': 'Italy',\n",
    "    'LV': 'Latvia',\n",
    "    'LT': 'Lithuania',\n",
    "    'LU': 'Luxembourg',\n",
    "    'MT': 'Malta',\n",
    "    'NL': 'Netherlands',\n",
    "    'PL': 'Poland',\n",
    "    'PT': 'Portugal',\n",
    "    'RO': 'Romania',\n",
    "    'SK': 'Slovakia',\n",
    "    'SI': 'Slovenia',\n",
    "    'ES': 'Spain',\n",
    "    'SE': 'Sweden'\n",
    "}\n",
    "country_values = list(country_mapping.values())\n",
    "country_values"
   ]
  },
  {
   "cell_type": "markdown",
   "metadata": {},
   "source": [
    "Filtering the Gini Coefficient Data by the EU countries ouf our list:"
   ]
  },
  {
   "cell_type": "code",
   "execution_count": 11,
   "metadata": {},
   "outputs": [],
   "source": [
    "df_gini_eu_2021 = df_gini_2021[df_gini_2021['Entity'].isin(country_values)]"
   ]
  },
  {
   "cell_type": "markdown",
   "metadata": {},
   "source": [
    "Checking data for countries and number of countries:"
   ]
  },
  {
   "cell_type": "code",
   "execution_count": 12,
   "metadata": {},
   "outputs": [
    {
     "name": "stdout",
     "output_type": "stream",
     "text": [
      "<class 'pandas.core.frame.DataFrame'>\n",
      "Index: 25 entries, 112 to 1976\n",
      "Data columns (total 4 columns):\n",
      " #   Column            Non-Null Count  Dtype  \n",
      "---  ------            --------------  -----  \n",
      " 0   Entity            25 non-null     object \n",
      " 1   Code              25 non-null     object \n",
      " 2   Year              25 non-null     int64  \n",
      " 3   Gini coefficient  25 non-null     float64\n",
      "dtypes: float64(1), int64(1), object(2)\n",
      "memory usage: 1000.0+ bytes\n"
     ]
    }
   ],
   "source": [
    "df_gini_eu_2021.info()"
   ]
  },
  {
   "cell_type": "code",
   "execution_count": 13,
   "metadata": {},
   "outputs": [
    {
     "data": {
      "text/plain": [
       "25"
      ]
     },
     "execution_count": 13,
     "metadata": {},
     "output_type": "execute_result"
    }
   ],
   "source": [
    "df_gini_eu_2021.Entity.nunique() \n",
    "\n",
    "##too little country values\n"
   ]
  },
  {
   "cell_type": "code",
   "execution_count": 14,
   "metadata": {},
   "outputs": [
    {
     "data": {
      "text/plain": [
       "array(['Austria', 'Belgium', 'Bulgaria', 'Croatia', 'Cyprus', 'Czechia',\n",
       "       'Denmark', 'Estonia', 'Finland', 'France', 'Greece', 'Hungary',\n",
       "       'Ireland', 'Italy', 'Latvia', 'Lithuania', 'Luxembourg',\n",
       "       'Netherlands', 'Poland', 'Portugal', 'Romania', 'Slovakia',\n",
       "       'Slovenia', 'Spain', 'Sweden'], dtype=object)"
      ]
     },
     "execution_count": 14,
     "metadata": {},
     "output_type": "execute_result"
    }
   ],
   "source": [
    "df_gini_eu_2021.Entity.unique() \n",
    "##at first glance: Germany is missing! --> Get Germany from 2019 Data"
   ]
  },
  {
   "cell_type": "markdown",
   "metadata": {},
   "source": [
    "Checking for further missing countries:"
   ]
  },
  {
   "cell_type": "code",
   "execution_count": 15,
   "metadata": {},
   "outputs": [
    {
     "name": "stdout",
     "output_type": "stream",
     "text": [
      "Countries missing in the 'Entity' column: {'Malta', 'Germany', 'European Union - 27 countries (from 2020)'}\n"
     ]
    }
   ],
   "source": [
    "# Convert the 'Entity' column to a set of unique values in df_gini_eu_2020\n",
    "entities_in_df = set(df_gini_eu_2021['Entity'].unique())\n",
    "\n",
    "# Convert eu_countries to a set\n",
    "eu_countries_set = set(country_values)\n",
    "\n",
    "# Find the missing countries by using set difference\n",
    "missing_countries = eu_countries_set - entities_in_df\n",
    "\n",
    "# Output the missing countries\n",
    "print(\"Countries missing in the 'Entity' column:\", missing_countries)"
   ]
  },
  {
   "cell_type": "markdown",
   "metadata": {},
   "source": [
    "getting German Data (2019):"
   ]
  },
  {
   "cell_type": "code",
   "execution_count": 16,
   "metadata": {},
   "outputs": [],
   "source": [
    "df_gini_2019 = df_gini[df_gini['Year'] == 2019]"
   ]
  },
  {
   "cell_type": "code",
   "execution_count": 17,
   "metadata": {},
   "outputs": [],
   "source": [
    "df_gini_2019_GER = df_gini_2019[df_gini_2019['Entity'] == 'Germany']"
   ]
  },
  {
   "cell_type": "code",
   "execution_count": 18,
   "metadata": {},
   "outputs": [
    {
     "data": {
      "text/html": [
       "<div>\n",
       "<style scoped>\n",
       "    .dataframe tbody tr th:only-of-type {\n",
       "        vertical-align: middle;\n",
       "    }\n",
       "\n",
       "    .dataframe tbody tr th {\n",
       "        vertical-align: top;\n",
       "    }\n",
       "\n",
       "    .dataframe thead th {\n",
       "        text-align: right;\n",
       "    }\n",
       "</style>\n",
       "<table border=\"1\" class=\"dataframe\">\n",
       "  <thead>\n",
       "    <tr style=\"text-align: right;\">\n",
       "      <th></th>\n",
       "      <th>Entity</th>\n",
       "      <th>Code</th>\n",
       "      <th>Year</th>\n",
       "      <th>Gini coefficient</th>\n",
       "    </tr>\n",
       "  </thead>\n",
       "  <tbody>\n",
       "    <tr>\n",
       "      <th>836</th>\n",
       "      <td>Germany</td>\n",
       "      <td>DEU</td>\n",
       "      <td>2019</td>\n",
       "      <td>0.317194</td>\n",
       "    </tr>\n",
       "  </tbody>\n",
       "</table>\n",
       "</div>"
      ],
      "text/plain": [
       "      Entity Code  Year  Gini coefficient\n",
       "836  Germany  DEU  2019          0.317194"
      ]
     },
     "execution_count": 18,
     "metadata": {},
     "output_type": "execute_result"
    }
   ],
   "source": [
    "df_gini_2019_GER"
   ]
  },
  {
   "cell_type": "markdown",
   "metadata": {},
   "source": [
    "Getting Malta Data (2020):"
   ]
  },
  {
   "cell_type": "code",
   "execution_count": 19,
   "metadata": {},
   "outputs": [],
   "source": [
    "df_gini_2020 = df_gini[df_gini['Year'] == 2020]"
   ]
  },
  {
   "cell_type": "code",
   "execution_count": 20,
   "metadata": {},
   "outputs": [],
   "source": [
    "df_gini_2020_MALT = df_gini_2020[df_gini_2020['Entity'] == 'Malta']"
   ]
  },
  {
   "cell_type": "code",
   "execution_count": 21,
   "metadata": {},
   "outputs": [
    {
     "data": {
      "text/html": [
       "<div>\n",
       "<style scoped>\n",
       "    .dataframe tbody tr th:only-of-type {\n",
       "        vertical-align: middle;\n",
       "    }\n",
       "\n",
       "    .dataframe tbody tr th {\n",
       "        vertical-align: top;\n",
       "    }\n",
       "\n",
       "    .dataframe thead th {\n",
       "        text-align: right;\n",
       "    }\n",
       "</style>\n",
       "<table border=\"1\" class=\"dataframe\">\n",
       "  <thead>\n",
       "    <tr style=\"text-align: right;\">\n",
       "      <th></th>\n",
       "      <th>Entity</th>\n",
       "      <th>Code</th>\n",
       "      <th>Year</th>\n",
       "      <th>Gini coefficient</th>\n",
       "    </tr>\n",
       "  </thead>\n",
       "  <tbody>\n",
       "    <tr>\n",
       "      <th>1424</th>\n",
       "      <td>Malta</td>\n",
       "      <td>MLT</td>\n",
       "      <td>2020</td>\n",
       "      <td>0.314038</td>\n",
       "    </tr>\n",
       "  </tbody>\n",
       "</table>\n",
       "</div>"
      ],
      "text/plain": [
       "     Entity Code  Year  Gini coefficient\n",
       "1424  Malta  MLT  2020          0.314038"
      ]
     },
     "execution_count": 21,
     "metadata": {},
     "output_type": "execute_result"
    }
   ],
   "source": [
    "df_gini_2020_MALT"
   ]
  },
  {
   "cell_type": "markdown",
   "metadata": {},
   "source": [
    "### Concatenating Gini Coefficient Data from 2021, 2020 (Malta) and 2019 (Germany) = UNION"
   ]
  },
  {
   "cell_type": "code",
   "execution_count": 22,
   "metadata": {},
   "outputs": [],
   "source": [
    "df_gini_eu = pd.concat([df_gini_eu_2021, df_gini_2020_MALT, df_gini_2019_GER], ignore_index=True)"
   ]
  },
  {
   "cell_type": "code",
   "execution_count": 23,
   "metadata": {},
   "outputs": [
    {
     "data": {
      "text/html": [
       "<div>\n",
       "<style scoped>\n",
       "    .dataframe tbody tr th:only-of-type {\n",
       "        vertical-align: middle;\n",
       "    }\n",
       "\n",
       "    .dataframe tbody tr th {\n",
       "        vertical-align: top;\n",
       "    }\n",
       "\n",
       "    .dataframe thead th {\n",
       "        text-align: right;\n",
       "    }\n",
       "</style>\n",
       "<table border=\"1\" class=\"dataframe\">\n",
       "  <thead>\n",
       "    <tr style=\"text-align: right;\">\n",
       "      <th></th>\n",
       "      <th>Entity</th>\n",
       "      <th>Code</th>\n",
       "      <th>Year</th>\n",
       "      <th>Gini coefficient</th>\n",
       "    </tr>\n",
       "  </thead>\n",
       "  <tbody>\n",
       "    <tr>\n",
       "      <th>0</th>\n",
       "      <td>Austria</td>\n",
       "      <td>AUT</td>\n",
       "      <td>2021</td>\n",
       "      <td>0.307022</td>\n",
       "    </tr>\n",
       "    <tr>\n",
       "      <th>1</th>\n",
       "      <td>Belgium</td>\n",
       "      <td>BEL</td>\n",
       "      <td>2021</td>\n",
       "      <td>0.265777</td>\n",
       "    </tr>\n",
       "    <tr>\n",
       "      <th>2</th>\n",
       "      <td>Bulgaria</td>\n",
       "      <td>BGR</td>\n",
       "      <td>2021</td>\n",
       "      <td>0.390055</td>\n",
       "    </tr>\n",
       "    <tr>\n",
       "      <th>3</th>\n",
       "      <td>Croatia</td>\n",
       "      <td>HRV</td>\n",
       "      <td>2021</td>\n",
       "      <td>0.288967</td>\n",
       "    </tr>\n",
       "    <tr>\n",
       "      <th>4</th>\n",
       "      <td>Cyprus</td>\n",
       "      <td>CYP</td>\n",
       "      <td>2021</td>\n",
       "      <td>0.312518</td>\n",
       "    </tr>\n",
       "    <tr>\n",
       "      <th>5</th>\n",
       "      <td>Czechia</td>\n",
       "      <td>CZE</td>\n",
       "      <td>2021</td>\n",
       "      <td>0.262021</td>\n",
       "    </tr>\n",
       "    <tr>\n",
       "      <th>6</th>\n",
       "      <td>Denmark</td>\n",
       "      <td>DNK</td>\n",
       "      <td>2021</td>\n",
       "      <td>0.283240</td>\n",
       "    </tr>\n",
       "    <tr>\n",
       "      <th>7</th>\n",
       "      <td>Estonia</td>\n",
       "      <td>EST</td>\n",
       "      <td>2021</td>\n",
       "      <td>0.318349</td>\n",
       "    </tr>\n",
       "    <tr>\n",
       "      <th>8</th>\n",
       "      <td>Finland</td>\n",
       "      <td>FIN</td>\n",
       "      <td>2021</td>\n",
       "      <td>0.277086</td>\n",
       "    </tr>\n",
       "    <tr>\n",
       "      <th>9</th>\n",
       "      <td>France</td>\n",
       "      <td>FRA</td>\n",
       "      <td>2021</td>\n",
       "      <td>0.315010</td>\n",
       "    </tr>\n",
       "    <tr>\n",
       "      <th>10</th>\n",
       "      <td>Greece</td>\n",
       "      <td>GRC</td>\n",
       "      <td>2021</td>\n",
       "      <td>0.329421</td>\n",
       "    </tr>\n",
       "    <tr>\n",
       "      <th>11</th>\n",
       "      <td>Hungary</td>\n",
       "      <td>HUN</td>\n",
       "      <td>2021</td>\n",
       "      <td>0.291735</td>\n",
       "    </tr>\n",
       "    <tr>\n",
       "      <th>12</th>\n",
       "      <td>Ireland</td>\n",
       "      <td>IRL</td>\n",
       "      <td>2021</td>\n",
       "      <td>0.301194</td>\n",
       "    </tr>\n",
       "    <tr>\n",
       "      <th>13</th>\n",
       "      <td>Italy</td>\n",
       "      <td>ITA</td>\n",
       "      <td>2021</td>\n",
       "      <td>0.348475</td>\n",
       "    </tr>\n",
       "    <tr>\n",
       "      <th>14</th>\n",
       "      <td>Latvia</td>\n",
       "      <td>LVA</td>\n",
       "      <td>2021</td>\n",
       "      <td>0.342571</td>\n",
       "    </tr>\n",
       "    <tr>\n",
       "      <th>15</th>\n",
       "      <td>Lithuania</td>\n",
       "      <td>LTU</td>\n",
       "      <td>2021</td>\n",
       "      <td>0.366574</td>\n",
       "    </tr>\n",
       "    <tr>\n",
       "      <th>16</th>\n",
       "      <td>Luxembourg</td>\n",
       "      <td>LUX</td>\n",
       "      <td>2021</td>\n",
       "      <td>0.327348</td>\n",
       "    </tr>\n",
       "    <tr>\n",
       "      <th>17</th>\n",
       "      <td>Netherlands</td>\n",
       "      <td>NLD</td>\n",
       "      <td>2021</td>\n",
       "      <td>0.257439</td>\n",
       "    </tr>\n",
       "    <tr>\n",
       "      <th>18</th>\n",
       "      <td>Poland</td>\n",
       "      <td>POL</td>\n",
       "      <td>2021</td>\n",
       "      <td>0.284797</td>\n",
       "    </tr>\n",
       "    <tr>\n",
       "      <th>19</th>\n",
       "      <td>Portugal</td>\n",
       "      <td>PRT</td>\n",
       "      <td>2021</td>\n",
       "      <td>0.345920</td>\n",
       "    </tr>\n",
       "    <tr>\n",
       "      <th>20</th>\n",
       "      <td>Romania</td>\n",
       "      <td>ROU</td>\n",
       "      <td>2021</td>\n",
       "      <td>0.338539</td>\n",
       "    </tr>\n",
       "    <tr>\n",
       "      <th>21</th>\n",
       "      <td>Slovakia</td>\n",
       "      <td>SVK</td>\n",
       "      <td>2021</td>\n",
       "      <td>0.241103</td>\n",
       "    </tr>\n",
       "    <tr>\n",
       "      <th>22</th>\n",
       "      <td>Slovenia</td>\n",
       "      <td>SVN</td>\n",
       "      <td>2021</td>\n",
       "      <td>0.242823</td>\n",
       "    </tr>\n",
       "    <tr>\n",
       "      <th>23</th>\n",
       "      <td>Spain</td>\n",
       "      <td>ESP</td>\n",
       "      <td>2021</td>\n",
       "      <td>0.338876</td>\n",
       "    </tr>\n",
       "    <tr>\n",
       "      <th>24</th>\n",
       "      <td>Sweden</td>\n",
       "      <td>SWE</td>\n",
       "      <td>2021</td>\n",
       "      <td>0.297674</td>\n",
       "    </tr>\n",
       "    <tr>\n",
       "      <th>25</th>\n",
       "      <td>Malta</td>\n",
       "      <td>MLT</td>\n",
       "      <td>2020</td>\n",
       "      <td>0.314038</td>\n",
       "    </tr>\n",
       "    <tr>\n",
       "      <th>26</th>\n",
       "      <td>Germany</td>\n",
       "      <td>DEU</td>\n",
       "      <td>2019</td>\n",
       "      <td>0.317194</td>\n",
       "    </tr>\n",
       "  </tbody>\n",
       "</table>\n",
       "</div>"
      ],
      "text/plain": [
       "         Entity Code  Year  Gini coefficient\n",
       "0       Austria  AUT  2021          0.307022\n",
       "1       Belgium  BEL  2021          0.265777\n",
       "2      Bulgaria  BGR  2021          0.390055\n",
       "3       Croatia  HRV  2021          0.288967\n",
       "4        Cyprus  CYP  2021          0.312518\n",
       "5       Czechia  CZE  2021          0.262021\n",
       "6       Denmark  DNK  2021          0.283240\n",
       "7       Estonia  EST  2021          0.318349\n",
       "8       Finland  FIN  2021          0.277086\n",
       "9        France  FRA  2021          0.315010\n",
       "10       Greece  GRC  2021          0.329421\n",
       "11      Hungary  HUN  2021          0.291735\n",
       "12      Ireland  IRL  2021          0.301194\n",
       "13        Italy  ITA  2021          0.348475\n",
       "14       Latvia  LVA  2021          0.342571\n",
       "15    Lithuania  LTU  2021          0.366574\n",
       "16   Luxembourg  LUX  2021          0.327348\n",
       "17  Netherlands  NLD  2021          0.257439\n",
       "18       Poland  POL  2021          0.284797\n",
       "19     Portugal  PRT  2021          0.345920\n",
       "20      Romania  ROU  2021          0.338539\n",
       "21     Slovakia  SVK  2021          0.241103\n",
       "22     Slovenia  SVN  2021          0.242823\n",
       "23        Spain  ESP  2021          0.338876\n",
       "24       Sweden  SWE  2021          0.297674\n",
       "25        Malta  MLT  2020          0.314038\n",
       "26      Germany  DEU  2019          0.317194"
      ]
     },
     "execution_count": 23,
     "metadata": {},
     "output_type": "execute_result"
    }
   ],
   "source": [
    "df_gini_eu"
   ]
  },
  {
   "cell_type": "code",
   "execution_count": 24,
   "metadata": {},
   "outputs": [
    {
     "data": {
      "text/plain": [
       "Entity              27\n",
       "Code                27\n",
       "Year                 3\n",
       "Gini coefficient    27\n",
       "dtype: int64"
      ]
     },
     "execution_count": 24,
     "metadata": {},
     "output_type": "execute_result"
    }
   ],
   "source": [
    "df_gini_eu.nunique()"
   ]
  },
  {
   "cell_type": "markdown",
   "metadata": {},
   "source": [
    "--> Gini data is now complete!"
   ]
  },
  {
   "cell_type": "markdown",
   "metadata": {},
   "source": [
    "### Pushing Gini Data to Database:"
   ]
  },
  {
   "cell_type": "code",
   "execution_count": 25,
   "metadata": {},
   "outputs": [
    {
     "data": {
      "text/plain": [
       "27"
      ]
     },
     "execution_count": 25,
     "metadata": {},
     "output_type": "execute_result"
    }
   ],
   "source": [
    "df_gini_eu.to_sql('gini_coefficient_eu', con=sf.get_engine(), schema=sf.schema, if_exists='replace', index=False)"
   ]
  },
  {
   "cell_type": "markdown",
   "metadata": {},
   "source": [
    "# 2) Merging of EU Digital Skills Data and Gini Coefficient Data"
   ]
  },
  {
   "cell_type": "markdown",
   "metadata": {},
   "source": [
    "### Getting EU Digital Skills data from Database"
   ]
  },
  {
   "cell_type": "code",
   "execution_count": 26,
   "metadata": {},
   "outputs": [],
   "source": [
    "df_ds = sf.get_dataframe(\"SELECT * FROM capstone_digieu.df_ds_geidx_m_f_total\")"
   ]
  },
  {
   "cell_type": "code",
   "execution_count": 27,
   "metadata": {},
   "outputs": [
    {
     "data": {
      "text/html": [
       "<div>\n",
       "<style scoped>\n",
       "    .dataframe tbody tr th:only-of-type {\n",
       "        vertical-align: middle;\n",
       "    }\n",
       "\n",
       "    .dataframe tbody tr th {\n",
       "        vertical-align: top;\n",
       "    }\n",
       "\n",
       "    .dataframe thead th {\n",
       "        text-align: right;\n",
       "    }\n",
       "</style>\n",
       "<table border=\"1\" class=\"dataframe\">\n",
       "  <thead>\n",
       "    <tr style=\"text-align: right;\">\n",
       "      <th></th>\n",
       "      <th>Countries</th>\n",
       "      <th>skill_level_4and5_m_16-24</th>\n",
       "      <th>skill_level_4and5_f_16-24</th>\n",
       "      <th>skill_level_4and5_m_25-34</th>\n",
       "      <th>skill_level_4and5_f_25-34</th>\n",
       "      <th>skill_level_4and5_m_35-44</th>\n",
       "      <th>skill_level_4and5_f_35-44</th>\n",
       "      <th>skill_level_4and5_m_45-54</th>\n",
       "      <th>skill_level_4and5_f_45-54</th>\n",
       "      <th>skill_level_4and5_m_55-64</th>\n",
       "      <th>...</th>\n",
       "      <th>skill_level_0_f_65-74</th>\n",
       "      <th>skill_level_0_m_lowformaleducation</th>\n",
       "      <th>skill_level_0_f_lowformaleducation</th>\n",
       "      <th>skill_level_0_m_mediumformaleducation</th>\n",
       "      <th>skill_level_0_f_mediumformaleducation</th>\n",
       "      <th>skill_level_0_m_highformaleducation</th>\n",
       "      <th>skill_level_0_f_highformaleducation</th>\n",
       "      <th>GE-idx</th>\n",
       "      <th>skill_level_5_f_total</th>\n",
       "      <th>skill_level_5_m_total</th>\n",
       "    </tr>\n",
       "  </thead>\n",
       "  <tbody>\n",
       "    <tr>\n",
       "      <th>23</th>\n",
       "      <td>Romania</td>\n",
       "      <td>48.53</td>\n",
       "      <td>45.56</td>\n",
       "      <td>43.27</td>\n",
       "      <td>36.92</td>\n",
       "      <td>33.48</td>\n",
       "      <td>34.75</td>\n",
       "      <td>27.47</td>\n",
       "      <td>28.05</td>\n",
       "      <td>14.57</td>\n",
       "      <td>...</td>\n",
       "      <td>17.47</td>\n",
       "      <td>18.53</td>\n",
       "      <td>18.32</td>\n",
       "      <td>9.06</td>\n",
       "      <td>9.08</td>\n",
       "      <td>1.20</td>\n",
       "      <td>1.30</td>\n",
       "      <td>56.1</td>\n",
       "      <td>8.21</td>\n",
       "      <td>9.76</td>\n",
       "    </tr>\n",
       "    <tr>\n",
       "      <th>24</th>\n",
       "      <td>Slovenia</td>\n",
       "      <td>72.91</td>\n",
       "      <td>73.23</td>\n",
       "      <td>61.00</td>\n",
       "      <td>62.73</td>\n",
       "      <td>54.12</td>\n",
       "      <td>63.60</td>\n",
       "      <td>42.13</td>\n",
       "      <td>48.87</td>\n",
       "      <td>36.77</td>\n",
       "      <td>...</td>\n",
       "      <td>7.65</td>\n",
       "      <td>6.44</td>\n",
       "      <td>6.95</td>\n",
       "      <td>4.94</td>\n",
       "      <td>4.02</td>\n",
       "      <td>0.25</td>\n",
       "      <td>0.00</td>\n",
       "      <td>69.4</td>\n",
       "      <td>17.03</td>\n",
       "      <td>20.64</td>\n",
       "    </tr>\n",
       "    <tr>\n",
       "      <th>25</th>\n",
       "      <td>Slovakia</td>\n",
       "      <td>71.23</td>\n",
       "      <td>69.88</td>\n",
       "      <td>65.13</td>\n",
       "      <td>61.91</td>\n",
       "      <td>64.86</td>\n",
       "      <td>63.25</td>\n",
       "      <td>50.02</td>\n",
       "      <td>53.85</td>\n",
       "      <td>37.42</td>\n",
       "      <td>...</td>\n",
       "      <td>5.74</td>\n",
       "      <td>2.70</td>\n",
       "      <td>2.95</td>\n",
       "      <td>2.22</td>\n",
       "      <td>2.83</td>\n",
       "      <td>0.59</td>\n",
       "      <td>0.26</td>\n",
       "      <td>59.2</td>\n",
       "      <td>20.01</td>\n",
       "      <td>23.44</td>\n",
       "    </tr>\n",
       "    <tr>\n",
       "      <th>26</th>\n",
       "      <td>Finland</td>\n",
       "      <td>89.37</td>\n",
       "      <td>98.38</td>\n",
       "      <td>93.01</td>\n",
       "      <td>94.92</td>\n",
       "      <td>93.72</td>\n",
       "      <td>94.42</td>\n",
       "      <td>84.76</td>\n",
       "      <td>91.09</td>\n",
       "      <td>69.10</td>\n",
       "      <td>...</td>\n",
       "      <td>2.59</td>\n",
       "      <td>1.41</td>\n",
       "      <td>1.52</td>\n",
       "      <td>0.59</td>\n",
       "      <td>0.57</td>\n",
       "      <td>0.19</td>\n",
       "      <td>0.12</td>\n",
       "      <td>74.4</td>\n",
       "      <td>55.15</td>\n",
       "      <td>52.11</td>\n",
       "    </tr>\n",
       "    <tr>\n",
       "      <th>27</th>\n",
       "      <td>Sweden</td>\n",
       "      <td>64.38</td>\n",
       "      <td>71.11</td>\n",
       "      <td>75.17</td>\n",
       "      <td>80.99</td>\n",
       "      <td>71.47</td>\n",
       "      <td>77.20</td>\n",
       "      <td>70.56</td>\n",
       "      <td>73.04</td>\n",
       "      <td>64.72</td>\n",
       "      <td>...</td>\n",
       "      <td>2.90</td>\n",
       "      <td>2.20</td>\n",
       "      <td>4.19</td>\n",
       "      <td>0.74</td>\n",
       "      <td>0.62</td>\n",
       "      <td>0.47</td>\n",
       "      <td>0.07</td>\n",
       "      <td>82.2</td>\n",
       "      <td>33.84</td>\n",
       "      <td>39.08</td>\n",
       "    </tr>\n",
       "  </tbody>\n",
       "</table>\n",
       "<p>5 rows × 130 columns</p>\n",
       "</div>"
      ],
      "text/plain": [
       "   Countries  skill_level_4and5_m_16-24  skill_level_4and5_f_16-24  \\\n",
       "23   Romania                      48.53                      45.56   \n",
       "24  Slovenia                      72.91                      73.23   \n",
       "25  Slovakia                      71.23                      69.88   \n",
       "26   Finland                      89.37                      98.38   \n",
       "27    Sweden                      64.38                      71.11   \n",
       "\n",
       "    skill_level_4and5_m_25-34  skill_level_4and5_f_25-34  \\\n",
       "23                      43.27                      36.92   \n",
       "24                      61.00                      62.73   \n",
       "25                      65.13                      61.91   \n",
       "26                      93.01                      94.92   \n",
       "27                      75.17                      80.99   \n",
       "\n",
       "    skill_level_4and5_m_35-44  skill_level_4and5_f_35-44  \\\n",
       "23                      33.48                      34.75   \n",
       "24                      54.12                      63.60   \n",
       "25                      64.86                      63.25   \n",
       "26                      93.72                      94.42   \n",
       "27                      71.47                      77.20   \n",
       "\n",
       "    skill_level_4and5_m_45-54  skill_level_4and5_f_45-54  \\\n",
       "23                      27.47                      28.05   \n",
       "24                      42.13                      48.87   \n",
       "25                      50.02                      53.85   \n",
       "26                      84.76                      91.09   \n",
       "27                      70.56                      73.04   \n",
       "\n",
       "    skill_level_4and5_m_55-64  ...  skill_level_0_f_65-74  \\\n",
       "23                      14.57  ...                  17.47   \n",
       "24                      36.77  ...                   7.65   \n",
       "25                      37.42  ...                   5.74   \n",
       "26                      69.10  ...                   2.59   \n",
       "27                      64.72  ...                   2.90   \n",
       "\n",
       "    skill_level_0_m_lowformaleducation  skill_level_0_f_lowformaleducation  \\\n",
       "23                               18.53                               18.32   \n",
       "24                                6.44                                6.95   \n",
       "25                                2.70                                2.95   \n",
       "26                                1.41                                1.52   \n",
       "27                                2.20                                4.19   \n",
       "\n",
       "    skill_level_0_m_mediumformaleducation  \\\n",
       "23                                   9.06   \n",
       "24                                   4.94   \n",
       "25                                   2.22   \n",
       "26                                   0.59   \n",
       "27                                   0.74   \n",
       "\n",
       "    skill_level_0_f_mediumformaleducation  \\\n",
       "23                                   9.08   \n",
       "24                                   4.02   \n",
       "25                                   2.83   \n",
       "26                                   0.57   \n",
       "27                                   0.62   \n",
       "\n",
       "    skill_level_0_m_highformaleducation  skill_level_0_f_highformaleducation  \\\n",
       "23                                 1.20                                 1.30   \n",
       "24                                 0.25                                 0.00   \n",
       "25                                 0.59                                 0.26   \n",
       "26                                 0.19                                 0.12   \n",
       "27                                 0.47                                 0.07   \n",
       "\n",
       "    GE-idx  skill_level_5_f_total  skill_level_5_m_total  \n",
       "23    56.1                   8.21                   9.76  \n",
       "24    69.4                  17.03                  20.64  \n",
       "25    59.2                  20.01                  23.44  \n",
       "26    74.4                  55.15                  52.11  \n",
       "27    82.2                  33.84                  39.08  \n",
       "\n",
       "[5 rows x 130 columns]"
      ]
     },
     "execution_count": 27,
     "metadata": {},
     "output_type": "execute_result"
    }
   ],
   "source": [
    "df_ds.tail()"
   ]
  },
  {
   "cell_type": "markdown",
   "metadata": {},
   "source": [
    "Filtering skills data by skill level 5 (above basic digital skills)"
   ]
  },
  {
   "cell_type": "code",
   "execution_count": 28,
   "metadata": {},
   "outputs": [],
   "source": [
    "df_ds_totals =  df_ds[['Countries', 'skill_level_5_f_total', 'skill_level_5_m_total']]"
   ]
  },
  {
   "cell_type": "markdown",
   "metadata": {},
   "source": [
    "### Merging of Gini and Digital Skills Data"
   ]
  },
  {
   "cell_type": "code",
   "execution_count": 29,
   "metadata": {},
   "outputs": [],
   "source": [
    "df_gini_corr = df_gini_eu.merge(df_ds_totals, left_on='Entity', right_on='Countries', how='left')"
   ]
  },
  {
   "cell_type": "code",
   "execution_count": 30,
   "metadata": {},
   "outputs": [
    {
     "data": {
      "text/html": [
       "<div>\n",
       "<style scoped>\n",
       "    .dataframe tbody tr th:only-of-type {\n",
       "        vertical-align: middle;\n",
       "    }\n",
       "\n",
       "    .dataframe tbody tr th {\n",
       "        vertical-align: top;\n",
       "    }\n",
       "\n",
       "    .dataframe thead th {\n",
       "        text-align: right;\n",
       "    }\n",
       "</style>\n",
       "<table border=\"1\" class=\"dataframe\">\n",
       "  <thead>\n",
       "    <tr style=\"text-align: right;\">\n",
       "      <th></th>\n",
       "      <th>Entity</th>\n",
       "      <th>Code</th>\n",
       "      <th>Year</th>\n",
       "      <th>Gini coefficient</th>\n",
       "      <th>Countries</th>\n",
       "      <th>skill_level_5_f_total</th>\n",
       "      <th>skill_level_5_m_total</th>\n",
       "    </tr>\n",
       "  </thead>\n",
       "  <tbody>\n",
       "    <tr>\n",
       "      <th>0</th>\n",
       "      <td>Austria</td>\n",
       "      <td>AUT</td>\n",
       "      <td>2021</td>\n",
       "      <td>0.307022</td>\n",
       "      <td>Austria</td>\n",
       "      <td>28.02</td>\n",
       "      <td>36.09</td>\n",
       "    </tr>\n",
       "    <tr>\n",
       "      <th>1</th>\n",
       "      <td>Belgium</td>\n",
       "      <td>BEL</td>\n",
       "      <td>2021</td>\n",
       "      <td>0.265777</td>\n",
       "      <td>Belgium</td>\n",
       "      <td>25.83</td>\n",
       "      <td>30.71</td>\n",
       "    </tr>\n",
       "    <tr>\n",
       "      <th>2</th>\n",
       "      <td>Bulgaria</td>\n",
       "      <td>BGR</td>\n",
       "      <td>2021</td>\n",
       "      <td>0.390055</td>\n",
       "      <td>Bulgaria</td>\n",
       "      <td>7.66</td>\n",
       "      <td>7.81</td>\n",
       "    </tr>\n",
       "    <tr>\n",
       "      <th>3</th>\n",
       "      <td>Croatia</td>\n",
       "      <td>HRV</td>\n",
       "      <td>2021</td>\n",
       "      <td>0.288967</td>\n",
       "      <td>Croatia</td>\n",
       "      <td>23.16</td>\n",
       "      <td>26.89</td>\n",
       "    </tr>\n",
       "    <tr>\n",
       "      <th>4</th>\n",
       "      <td>Cyprus</td>\n",
       "      <td>CYP</td>\n",
       "      <td>2021</td>\n",
       "      <td>0.312518</td>\n",
       "      <td>Cyprus</td>\n",
       "      <td>24.57</td>\n",
       "      <td>25.36</td>\n",
       "    </tr>\n",
       "  </tbody>\n",
       "</table>\n",
       "</div>"
      ],
      "text/plain": [
       "     Entity Code  Year  Gini coefficient Countries  skill_level_5_f_total  \\\n",
       "0   Austria  AUT  2021          0.307022   Austria                  28.02   \n",
       "1   Belgium  BEL  2021          0.265777   Belgium                  25.83   \n",
       "2  Bulgaria  BGR  2021          0.390055  Bulgaria                   7.66   \n",
       "3   Croatia  HRV  2021          0.288967   Croatia                  23.16   \n",
       "4    Cyprus  CYP  2021          0.312518    Cyprus                  24.57   \n",
       "\n",
       "   skill_level_5_m_total  \n",
       "0                  36.09  \n",
       "1                  30.71  \n",
       "2                   7.81  \n",
       "3                  26.89  \n",
       "4                  25.36  "
      ]
     },
     "execution_count": 30,
     "metadata": {},
     "output_type": "execute_result"
    }
   ],
   "source": [
    "df_gini_corr.head()"
   ]
  },
  {
   "cell_type": "markdown",
   "metadata": {},
   "source": [
    "# 3) Calculation of Correlation between Gini Coefficient and Digital Skills"
   ]
  },
  {
   "cell_type": "markdown",
   "metadata": {},
   "source": [
    "### Creating a new column on total 'above basic' digital skills - all genders"
   ]
  },
  {
   "cell_type": "code",
   "execution_count": 31,
   "metadata": {},
   "outputs": [],
   "source": [
    "df_gini_corr['total_ds'] = (df_gini_corr['skill_level_5_f_total'] + df_gini_corr['skill_level_5_m_total'])/2\n",
    "# as the population is 100% and the binary gender model divides males and females almost exactly into 50%-50% shares of the population, we sum the groups and divide by 2 to get the average"
   ]
  },
  {
   "cell_type": "code",
   "execution_count": 32,
   "metadata": {},
   "outputs": [
    {
     "data": {
      "text/html": [
       "<div>\n",
       "<style scoped>\n",
       "    .dataframe tbody tr th:only-of-type {\n",
       "        vertical-align: middle;\n",
       "    }\n",
       "\n",
       "    .dataframe tbody tr th {\n",
       "        vertical-align: top;\n",
       "    }\n",
       "\n",
       "    .dataframe thead th {\n",
       "        text-align: right;\n",
       "    }\n",
       "</style>\n",
       "<table border=\"1\" class=\"dataframe\">\n",
       "  <thead>\n",
       "    <tr style=\"text-align: right;\">\n",
       "      <th></th>\n",
       "      <th>Entity</th>\n",
       "      <th>Code</th>\n",
       "      <th>Year</th>\n",
       "      <th>Gini coefficient</th>\n",
       "      <th>Countries</th>\n",
       "      <th>skill_level_5_f_total</th>\n",
       "      <th>skill_level_5_m_total</th>\n",
       "      <th>total_ds</th>\n",
       "    </tr>\n",
       "  </thead>\n",
       "  <tbody>\n",
       "    <tr>\n",
       "      <th>0</th>\n",
       "      <td>Austria</td>\n",
       "      <td>AUT</td>\n",
       "      <td>2021</td>\n",
       "      <td>0.307022</td>\n",
       "      <td>Austria</td>\n",
       "      <td>28.02</td>\n",
       "      <td>36.09</td>\n",
       "      <td>32.055</td>\n",
       "    </tr>\n",
       "    <tr>\n",
       "      <th>1</th>\n",
       "      <td>Belgium</td>\n",
       "      <td>BEL</td>\n",
       "      <td>2021</td>\n",
       "      <td>0.265777</td>\n",
       "      <td>Belgium</td>\n",
       "      <td>25.83</td>\n",
       "      <td>30.71</td>\n",
       "      <td>28.270</td>\n",
       "    </tr>\n",
       "    <tr>\n",
       "      <th>2</th>\n",
       "      <td>Bulgaria</td>\n",
       "      <td>BGR</td>\n",
       "      <td>2021</td>\n",
       "      <td>0.390055</td>\n",
       "      <td>Bulgaria</td>\n",
       "      <td>7.66</td>\n",
       "      <td>7.81</td>\n",
       "      <td>7.735</td>\n",
       "    </tr>\n",
       "    <tr>\n",
       "      <th>3</th>\n",
       "      <td>Croatia</td>\n",
       "      <td>HRV</td>\n",
       "      <td>2021</td>\n",
       "      <td>0.288967</td>\n",
       "      <td>Croatia</td>\n",
       "      <td>23.16</td>\n",
       "      <td>26.89</td>\n",
       "      <td>25.025</td>\n",
       "    </tr>\n",
       "    <tr>\n",
       "      <th>4</th>\n",
       "      <td>Cyprus</td>\n",
       "      <td>CYP</td>\n",
       "      <td>2021</td>\n",
       "      <td>0.312518</td>\n",
       "      <td>Cyprus</td>\n",
       "      <td>24.57</td>\n",
       "      <td>25.36</td>\n",
       "      <td>24.965</td>\n",
       "    </tr>\n",
       "  </tbody>\n",
       "</table>\n",
       "</div>"
      ],
      "text/plain": [
       "     Entity Code  Year  Gini coefficient Countries  skill_level_5_f_total  \\\n",
       "0   Austria  AUT  2021          0.307022   Austria                  28.02   \n",
       "1   Belgium  BEL  2021          0.265777   Belgium                  25.83   \n",
       "2  Bulgaria  BGR  2021          0.390055  Bulgaria                   7.66   \n",
       "3   Croatia  HRV  2021          0.288967   Croatia                  23.16   \n",
       "4    Cyprus  CYP  2021          0.312518    Cyprus                  24.57   \n",
       "\n",
       "   skill_level_5_m_total  total_ds  \n",
       "0                  36.09    32.055  \n",
       "1                  30.71    28.270  \n",
       "2                   7.81     7.735  \n",
       "3                  26.89    25.025  \n",
       "4                  25.36    24.965  "
      ]
     },
     "execution_count": 32,
     "metadata": {},
     "output_type": "execute_result"
    }
   ],
   "source": [
    "df_gini_corr.head()"
   ]
  },
  {
   "cell_type": "code",
   "execution_count": 33,
   "metadata": {},
   "outputs": [],
   "source": [
    "df_gini_corr.to_excel('./df_gini_canva.xlsx')"
   ]
  },
  {
   "cell_type": "markdown",
   "metadata": {},
   "source": [
    "### Checking for distribution type to select correct correlation calculation"
   ]
  },
  {
   "cell_type": "code",
   "execution_count": 34,
   "metadata": {},
   "outputs": [
    {
     "data": {
      "image/png": "[encoded data removed]",
      "text/plain": [
       "<Figure size 1000x500 with 2 Axes>"
      ]
     },
     "metadata": {},
     "output_type": "display_data"
    }
   ],
   "source": [
    "\n",
    "# Assuming df_gini_corr is your DataFrame\n",
    "plt.figure(figsize=(10,5))\n",
    "\n",
    "# Histogram for Gini coefficient\n",
    "plt.subplot(1, 2, 1)\n",
    "plt.hist(df_gini_corr['Gini coefficient'], bins=10, alpha=0.7, edgecolor='black')\n",
    "plt.title('Histogram of Gini Coefficient')\n",
    "plt.xlabel('Gini Coefficient')\n",
    "plt.ylabel('Frequency')\n",
    "\n",
    "# Histogram for Digital Skills (total_ds)\n",
    "plt.subplot(1, 2, 2)\n",
    "plt.hist(df_gini_corr['total_ds'], bins=10, alpha=0.7, edgecolor='black')\n",
    "plt.title('Histogram of Digital Skills (total_ds)')\n",
    "plt.xlabel('Digital Skills (Average)')\n",
    "plt.ylabel('Frequency')\n",
    "\n",
    "# Display the histograms\n",
    "plt.tight_layout()\n",
    "plt.show()"
   ]
  },
  {
   "cell_type": "markdown",
   "metadata": {},
   "source": [
    "looks like normal distributions, but let's test it, too!"
   ]
  },
  {
   "cell_type": "markdown",
   "metadata": {},
   "source": [
    "there are also tests for normality - e.g. shapiro wilk test"
   ]
  },
  {
   "cell_type": "code",
   "execution_count": 35,
   "metadata": {},
   "outputs": [
    {
     "data": {
      "text/plain": [
       "ShapiroResult(statistic=0.9860809059405684, pvalue=0.9667848177739623)"
      ]
     },
     "execution_count": 35,
     "metadata": {},
     "output_type": "execute_result"
    }
   ],
   "source": [
    "stats.shapiro(df_gini_corr['Gini coefficient'], axis=None, nan_policy='propagate', keepdims=False)"
   ]
  },
  {
   "cell_type": "markdown",
   "metadata": {},
   "source": [
    "= normally distributed."
   ]
  },
  {
   "cell_type": "code",
   "execution_count": 36,
   "metadata": {},
   "outputs": [
    {
     "data": {
      "text/plain": [
       "ShapiroResult(statistic=0.9703181198211126, pvalue=0.6102374947482272)"
      ]
     },
     "execution_count": 36,
     "metadata": {},
     "output_type": "execute_result"
    }
   ],
   "source": [
    "stats.shapiro(df_gini_corr['total_ds'], axis=None, nan_policy='propagate', keepdims=False)"
   ]
  },
  {
   "cell_type": "markdown",
   "metadata": {},
   "source": [
    "= both datasets are normally distributed."
   ]
  },
  {
   "cell_type": "markdown",
   "metadata": {},
   "source": [
    "(Interpretation if Shapiro Wilk results: p-value has to be NOT significant to indicate a normal distribution!)"
   ]
  },
  {
   "cell_type": "markdown",
   "metadata": {},
   "source": [
    "### Pearson correlation calculation because of normal distribution:"
   ]
  },
  {
   "cell_type": "code",
   "execution_count": 37,
   "metadata": {},
   "outputs": [
    {
     "name": "stdout",
     "output_type": "stream",
     "text": [
      "Pearson correlation: -0.4026873127240082\n",
      "P-value: 0.03729569433521863\n"
     ]
    }
   ],
   "source": [
    "\n",
    "# Assuming df_gini_corr is your DataFrame, and 'Gini coefficient' and 'total_ds' are your column names\n",
    "correlation, p_value = pearsonr(df_gini_corr['Gini coefficient'], df_gini_corr['total_ds'])\n",
    "\n",
    "print(f\"Pearson correlation: {correlation}\")\n",
    "print(f\"P-value: {p_value}\")"
   ]
  },
  {
   "cell_type": "markdown",
   "metadata": {},
   "source": [
    "#### --> moderate significant negative correlation of -0.4."
   ]
  },
  {
   "cell_type": "markdown",
   "metadata": {},
   "source": [
    "### Checking complete correlation table for all numeric values:"
   ]
  },
  {
   "cell_type": "code",
   "execution_count": 38,
   "metadata": {},
   "outputs": [
    {
     "name": "stdout",
     "output_type": "stream",
     "text": [
      "                           Year  Gini coefficient  skill_level_5_f_total  \\\n",
      "Year                   1.000000         -0.062795               0.083029   \n",
      "Gini coefficient      -0.062795          1.000000              -0.368185   \n",
      "skill_level_5_f_total  0.083029         -0.368185               1.000000   \n",
      "skill_level_5_m_total  0.079143         -0.422143               0.937406   \n",
      "total_ds               0.082296         -0.402687               0.982801   \n",
      "\n",
      "                       skill_level_5_m_total  total_ds  \n",
      "Year                                0.079143  0.082296  \n",
      "Gini coefficient                   -0.422143 -0.402687  \n",
      "skill_level_5_f_total               0.937406  0.982801  \n",
      "skill_level_5_m_total               1.000000  0.985592  \n",
      "total_ds                            0.985592  1.000000  \n"
     ]
    }
   ],
   "source": [
    "correlation_matrix = df_gini_corr.corr(numeric_only=True)\n",
    "print(correlation_matrix)"
   ]
  },
  {
   "cell_type": "markdown",
   "metadata": {},
   "source": [
    "### Creating a heatmap for a better visualization:"
   ]
  },
  {
   "cell_type": "code",
   "execution_count": 39,
   "metadata": {},
   "outputs": [
    {
     "data": {
      "image/png": "[encoded data removed]",
      "text/plain": [
       "<Figure size 1000x800 with 2 Axes>"
      ]
     },
     "metadata": {},
     "output_type": "display_data"
    }
   ],
   "source": [
    "# Set the plot size for better visibility\n",
    "plt.figure(figsize=(10, 8))\n",
    "\n",
    "# Create the heatmap\n",
    "sns.heatmap(correlation_matrix, annot=True, cmap='coolwarm', linewidths=0.5)\n",
    "\n",
    "# Show the plot\n",
    "plt.title('Correlation Heatmap')\n",
    "plt.show()"
   ]
  },
  {
   "cell_type": "markdown",
   "metadata": {},
   "source": [
    "# Summary"
   ]
  },
  {
   "cell_type": "markdown",
   "metadata": {},
   "source": [
    "Our Statistical tests confirm that there is a moderate negative relationship between income inequality and advanced digital skills with a significant correlation of -0.40. It’s not a perfect correlation, but it’s significant enough to suggest that income inequality is a relevant factor in digital skill development.\n",
    "\n",
    "To sum up, our analysis shows that countries with lower income inequality tend to have a higher proportion of individuals with advanced digital skills.\n"
   ]
  }
 ],
 "metadata": {
  "kernelspec": {
   "display_name": "nf_base",
   "language": "python",
   "name": "python3"
  },
  "language_info": {
   "codemirror_mode": {
    "name": "ipython",
    "version": 3
   },
   "file_extension": ".py",
   "mimetype": "text/x-python",
   "name": "python",
   "nbconvert_exporter": "python",
   "pygments_lexer": "ipython3",
   "version": "3.9.7"
  }
 },
 "nbformat": 4,
 "nbformat_minor": 2
}
