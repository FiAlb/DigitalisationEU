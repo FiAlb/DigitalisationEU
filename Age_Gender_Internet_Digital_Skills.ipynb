{
 "cells": [
  {
   "cell_type": "markdown",
   "metadata": {},
   "source": [
    "# Digitalisation in the European Union"
   ]
  },
  {
   "cell_type": "markdown",
   "metadata": {},
   "source": [
    "In this notebook and analysis we will be using the following packages:"
   ]
  },
  {
   "cell_type": "code",
   "execution_count": 12,
   "metadata": {},
   "outputs": [],
   "source": [
    "import pandas as pd\n",
    "import numpy as np\n",
    "import matplotlib.pyplot as plt\n",
    "import seaborn as sns\n",
    "import scipy.stats as stats\n",
    "from scipy.stats import spearmanr\n",
    "from scipy.stats import pearsonr"
   ]
  },
  {
   "cell_type": "markdown",
   "metadata": {},
   "source": [
    "In this notebook we will calculate the correlation for gender equality, age and internet infrasctructure."
   ]
  },
  {
   "cell_type": "markdown",
   "metadata": {},
   "source": [
    "# 1. Overview of datasets"
   ]
  },
  {
   "cell_type": "markdown",
   "metadata": {},
   "source": [
    "- total_df = Digital Skills 2023. This includes information of Gender Equality Index. (df_ds_geidx_m_f_total.xlsx).\n",
    "- age_group_df = Share of people with above basic skills per country and age group. (agegroup.xlsx)\n",
    "- abstract_df = Includes information of internet infrastructure (5G and NGA), digital skills per country and in rural areas, and share of people with above digital skills."
   ]
  },
  {
   "cell_type": "markdown",
   "metadata": {},
   "source": [
    "Let's read the first dataset: Digital Skills 2023"
   ]
  },
  {
   "cell_type": "code",
   "execution_count": 13,
   "metadata": {},
   "outputs": [
    {
     "data": {
      "text/html": [
       "<div>\n",
       "<style scoped>\n",
       "    .dataframe tbody tr th:only-of-type {\n",
       "        vertical-align: middle;\n",
       "    }\n",
       "\n",
       "    .dataframe tbody tr th {\n",
       "        vertical-align: top;\n",
       "    }\n",
       "\n",
       "    .dataframe thead th {\n",
       "        text-align: right;\n",
       "    }\n",
       "</style>\n",
       "<table border=\"1\" class=\"dataframe\">\n",
       "  <thead>\n",
       "    <tr style=\"text-align: right;\">\n",
       "      <th></th>\n",
       "      <th>Countries</th>\n",
       "      <th>4n5_m_16-24</th>\n",
       "      <th>4n5_f_16-24</th>\n",
       "      <th>4n5_m_25-34</th>\n",
       "      <th>4n5_f_25-34</th>\n",
       "      <th>4n5_m_35-44</th>\n",
       "      <th>4n5_f_35-44</th>\n",
       "      <th>4n5_m_45-54</th>\n",
       "      <th>4n5_f_45-54</th>\n",
       "      <th>4n5_m_55-64</th>\n",
       "      <th>...</th>\n",
       "      <th>0_f_65-74</th>\n",
       "      <th>0_m_edu_low</th>\n",
       "      <th>0_f_edu_low</th>\n",
       "      <th>0_m_edu_medium</th>\n",
       "      <th>0_f_edu_medium</th>\n",
       "      <th>0_m_edu_high</th>\n",
       "      <th>0_f_edu_high</th>\n",
       "      <th>GE-idx</th>\n",
       "      <th>5_f_total</th>\n",
       "      <th>5_m_total</th>\n",
       "    </tr>\n",
       "  </thead>\n",
       "  <tbody>\n",
       "    <tr>\n",
       "      <th>0</th>\n",
       "      <td>EU</td>\n",
       "      <td>67.93</td>\n",
       "      <td>72.16</td>\n",
       "      <td>69.29</td>\n",
       "      <td>71.07</td>\n",
       "      <td>64.25</td>\n",
       "      <td>66.28</td>\n",
       "      <td>58.20</td>\n",
       "      <td>57.31</td>\n",
       "      <td>46.50</td>\n",
       "      <td>...</td>\n",
       "      <td>6.59</td>\n",
       "      <td>5.76</td>\n",
       "      <td>6.47</td>\n",
       "      <td>3.06</td>\n",
       "      <td>2.83</td>\n",
       "      <td>0.59</td>\n",
       "      <td>0.56</td>\n",
       "      <td>70.2</td>\n",
       "      <td>25.40</td>\n",
       "      <td>29.30</td>\n",
       "    </tr>\n",
       "    <tr>\n",
       "      <th>1</th>\n",
       "      <td>Belgium</td>\n",
       "      <td>62.19</td>\n",
       "      <td>73.34</td>\n",
       "      <td>71.69</td>\n",
       "      <td>72.98</td>\n",
       "      <td>73.87</td>\n",
       "      <td>63.47</td>\n",
       "      <td>58.32</td>\n",
       "      <td>57.64</td>\n",
       "      <td>53.00</td>\n",
       "      <td>...</td>\n",
       "      <td>6.16</td>\n",
       "      <td>5.46</td>\n",
       "      <td>4.71</td>\n",
       "      <td>1.20</td>\n",
       "      <td>2.46</td>\n",
       "      <td>0.40</td>\n",
       "      <td>1.01</td>\n",
       "      <td>76.0</td>\n",
       "      <td>25.83</td>\n",
       "      <td>30.71</td>\n",
       "    </tr>\n",
       "    <tr>\n",
       "      <th>2</th>\n",
       "      <td>Bulgaria</td>\n",
       "      <td>52.53</td>\n",
       "      <td>53.81</td>\n",
       "      <td>48.82</td>\n",
       "      <td>49.58</td>\n",
       "      <td>46.25</td>\n",
       "      <td>50.25</td>\n",
       "      <td>39.39</td>\n",
       "      <td>45.06</td>\n",
       "      <td>19.37</td>\n",
       "      <td>...</td>\n",
       "      <td>6.60</td>\n",
       "      <td>14.64</td>\n",
       "      <td>14.40</td>\n",
       "      <td>5.53</td>\n",
       "      <td>4.71</td>\n",
       "      <td>0.77</td>\n",
       "      <td>1.06</td>\n",
       "      <td>65.1</td>\n",
       "      <td>7.66</td>\n",
       "      <td>7.81</td>\n",
       "    </tr>\n",
       "    <tr>\n",
       "      <th>3</th>\n",
       "      <td>Czechia</td>\n",
       "      <td>90.19</td>\n",
       "      <td>95.13</td>\n",
       "      <td>86.97</td>\n",
       "      <td>83.99</td>\n",
       "      <td>82.67</td>\n",
       "      <td>83.16</td>\n",
       "      <td>71.74</td>\n",
       "      <td>72.64</td>\n",
       "      <td>56.14</td>\n",
       "      <td>...</td>\n",
       "      <td>3.05</td>\n",
       "      <td>1.41</td>\n",
       "      <td>3.12</td>\n",
       "      <td>1.25</td>\n",
       "      <td>1.15</td>\n",
       "      <td>0.51</td>\n",
       "      <td>0.07</td>\n",
       "      <td>57.9</td>\n",
       "      <td>34.96</td>\n",
       "      <td>36.04</td>\n",
       "    </tr>\n",
       "    <tr>\n",
       "      <th>4</th>\n",
       "      <td>Denmark</td>\n",
       "      <td>76.03</td>\n",
       "      <td>82.38</td>\n",
       "      <td>81.76</td>\n",
       "      <td>81.24</td>\n",
       "      <td>74.02</td>\n",
       "      <td>73.74</td>\n",
       "      <td>74.80</td>\n",
       "      <td>67.94</td>\n",
       "      <td>63.71</td>\n",
       "      <td>...</td>\n",
       "      <td>2.29</td>\n",
       "      <td>2.13</td>\n",
       "      <td>1.19</td>\n",
       "      <td>0.60</td>\n",
       "      <td>0.66</td>\n",
       "      <td>0.12</td>\n",
       "      <td>0.25</td>\n",
       "      <td>77.8</td>\n",
       "      <td>33.57</td>\n",
       "      <td>45.13</td>\n",
       "    </tr>\n",
       "  </tbody>\n",
       "</table>\n",
       "<p>5 rows × 130 columns</p>\n",
       "</div>"
      ],
      "text/plain": [
       "  Countries  4n5_m_16-24  4n5_f_16-24  4n5_m_25-34  4n5_f_25-34  4n5_m_35-44  \\\n",
       "0        EU        67.93        72.16        69.29        71.07        64.25   \n",
       "1   Belgium        62.19        73.34        71.69        72.98        73.87   \n",
       "2  Bulgaria        52.53        53.81        48.82        49.58        46.25   \n",
       "3   Czechia        90.19        95.13        86.97        83.99        82.67   \n",
       "4   Denmark        76.03        82.38        81.76        81.24        74.02   \n",
       "\n",
       "   4n5_f_35-44  4n5_m_45-54  4n5_f_45-54  4n5_m_55-64  ...  0_f_65-74  \\\n",
       "0        66.28        58.20        57.31        46.50  ...       6.59   \n",
       "1        63.47        58.32        57.64        53.00  ...       6.16   \n",
       "2        50.25        39.39        45.06        19.37  ...       6.60   \n",
       "3        83.16        71.74        72.64        56.14  ...       3.05   \n",
       "4        73.74        74.80        67.94        63.71  ...       2.29   \n",
       "\n",
       "   0_m_edu_low  0_f_edu_low  0_m_edu_medium  0_f_edu_medium  0_m_edu_high  \\\n",
       "0         5.76         6.47            3.06            2.83          0.59   \n",
       "1         5.46         4.71            1.20            2.46          0.40   \n",
       "2        14.64        14.40            5.53            4.71          0.77   \n",
       "3         1.41         3.12            1.25            1.15          0.51   \n",
       "4         2.13         1.19            0.60            0.66          0.12   \n",
       "\n",
       "   0_f_edu_high  GE-idx  5_f_total  5_m_total  \n",
       "0          0.56    70.2      25.40      29.30  \n",
       "1          1.01    76.0      25.83      30.71  \n",
       "2          1.06    65.1       7.66       7.81  \n",
       "3          0.07    57.9      34.96      36.04  \n",
       "4          0.25    77.8      33.57      45.13  \n",
       "\n",
       "[5 rows x 130 columns]"
      ]
     },
     "execution_count": 13,
     "metadata": {},
     "output_type": "execute_result"
    }
   ],
   "source": [
    "total_df = pd.read_excel('./df_ds_geidx_m_f_total.xlsx')\n",
    "total_df.head()"
   ]
  },
  {
   "cell_type": "code",
   "execution_count": 14,
   "metadata": {},
   "outputs": [
    {
     "data": {
      "text/plain": [
       "(28, 130)"
      ]
     },
     "execution_count": 14,
     "metadata": {},
     "output_type": "execute_result"
    }
   ],
   "source": [
    "total_df.shape #n° of rows and columns"
   ]
  },
  {
   "cell_type": "code",
   "execution_count": 15,
   "metadata": {},
   "outputs": [
    {
     "data": {
      "text/plain": [
       "['Countries',\n",
       " '4n5_m_16-24',\n",
       " '4n5_f_16-24',\n",
       " '4n5_m_25-34',\n",
       " '4n5_f_25-34',\n",
       " '4n5_m_35-44',\n",
       " '4n5_f_35-44',\n",
       " '4n5_m_45-54',\n",
       " '4n5_f_45-54',\n",
       " '4n5_m_55-64',\n",
       " '4n5_f_55-64',\n",
       " '4n5_m_65-74',\n",
       " '4n5_f_65-74',\n",
       " '4n5_m_edu_low',\n",
       " '4n5_f_edu_low',\n",
       " '4n5_m_edu_medium',\n",
       " '4n5_f_edu_medium',\n",
       " '4n5_m_edu_high',\n",
       " '4n5_f_edu_high',\n",
       " '5_m_16-24',\n",
       " '5_f_16-24',\n",
       " '5_m_25-34',\n",
       " '5_f_25-34',\n",
       " '5_m_35-44',\n",
       " '5_f_35-44',\n",
       " '5_m_45-54',\n",
       " '5_f_45-54',\n",
       " '5_m_55-64',\n",
       " '5_f_55-64',\n",
       " '5_m_65-74',\n",
       " '5_f_65-74',\n",
       " '5_m_edu_low',\n",
       " '5_f_edu_low',\n",
       " '5_m_edu_medium',\n",
       " '5_f_edu_medium',\n",
       " '5_m_edu_high',\n",
       " '5_f_edu_high',\n",
       " '4_m_16-24',\n",
       " '4_f_16-24',\n",
       " '4_m_25-34',\n",
       " '4_f_25-34',\n",
       " '4_m_35-44',\n",
       " '4_f_35-44',\n",
       " '4_m_45-54',\n",
       " '4_f_45-54',\n",
       " '4_m_55-64',\n",
       " '4_f_55-64',\n",
       " '4_m_65-74',\n",
       " '4_f_65-74',\n",
       " '4_m_edu_low',\n",
       " '4_f_edu_low',\n",
       " '4_m_edu_medium',\n",
       " '4_f_edu_medium',\n",
       " '4_m_edu_high',\n",
       " '4_f_edu_high',\n",
       " '3_m_16-24',\n",
       " '3_f_16-24',\n",
       " '3_m_25-34',\n",
       " '3_f_25-34',\n",
       " '3_m_35-44',\n",
       " '3_f_35-44',\n",
       " '3_m_45-54',\n",
       " '3_f_45-54',\n",
       " '3_m_55-64',\n",
       " '3_f_55-64',\n",
       " '3_m_65-74',\n",
       " '3_f_65-74',\n",
       " '3_m_edu_low',\n",
       " '3_f_edu_low',\n",
       " '3_m_edu_medium',\n",
       " '3_f_edu_medium',\n",
       " '3_m_edu_high',\n",
       " '3_f_edu_high',\n",
       " '2_m_16-24',\n",
       " '2_f_16-24',\n",
       " '2_m_25-34',\n",
       " '2_f_25-34',\n",
       " '2_m_35-44',\n",
       " '2_f_35-44',\n",
       " '2_m_45-54',\n",
       " '2_f_45-54',\n",
       " '2_m_55-64',\n",
       " '2_f_55-64',\n",
       " '2_m_65-74',\n",
       " '2_f_65-74',\n",
       " '2_m_edu_low',\n",
       " '2_f_edu_low',\n",
       " '2_m_edu_medium',\n",
       " '2_f_edu_medium',\n",
       " '2_m_edu_high',\n",
       " '2_f_edu_high',\n",
       " '1_m_16-24',\n",
       " '1_f_16-24',\n",
       " '1_m_25-34',\n",
       " '1_f_25-34',\n",
       " '1_m_35-44',\n",
       " '1_f_35-44',\n",
       " '1_m_45-54',\n",
       " '1_f_45-54',\n",
       " '1_m_55-64',\n",
       " '1_f_55-64',\n",
       " '1_m_65-74',\n",
       " '1_f_65-74',\n",
       " '1_m_edu_low',\n",
       " '1_f_edu_low',\n",
       " '1_m_edu_medium',\n",
       " '1_f_edu_medium',\n",
       " '1_m_edu_high',\n",
       " '1_f_edu_high',\n",
       " '0_m_16-24',\n",
       " '0_f_16-24',\n",
       " '0_m_25-34',\n",
       " '0_f_25-34',\n",
       " '0_m_35-44',\n",
       " '0_f_35-44',\n",
       " '0_m_45-54',\n",
       " '0_f_45-54',\n",
       " '0_m_55-64',\n",
       " '0_f_55-64',\n",
       " '0_m_65-74',\n",
       " '0_f_65-74',\n",
       " '0_m_edu_low',\n",
       " '0_f_edu_low',\n",
       " '0_m_edu_medium',\n",
       " '0_f_edu_medium',\n",
       " '0_m_edu_high',\n",
       " '0_f_edu_high',\n",
       " 'GE-idx',\n",
       " '5_f_total',\n",
       " '5_m_total']"
      ]
     },
     "execution_count": 15,
     "metadata": {},
     "output_type": "execute_result"
    }
   ],
   "source": [
    "list(total_df.columns) #we used here the function list to get all name of columns"
   ]
  },
  {
   "cell_type": "markdown",
   "metadata": {},
   "source": [
    "# 2. Correlation: Gender Equality Index"
   ]
  },
  {
   "cell_type": "code",
   "execution_count": 16,
   "metadata": {},
   "outputs": [
    {
     "data": {
      "image/png": "[encoded data removed]",
      "text/plain": [
       "<Figure size 1200x600 with 1 Axes>"
      ]
     },
     "metadata": {},
     "output_type": "display_data"
    }
   ],
   "source": [
    "#check if the Gender Equality Index Score has a normal distribution:\n",
    "plt.figure(figsize=(12, 6))\n",
    "\n",
    "plt.subplot(1, 2, 1) \n",
    "plt.hist(total_df['GE-idx'], bins=10, color='skyblue', edgecolor='black')\n",
    "plt.title('Histogram of Gender Equality Index')\n",
    "plt.xlabel('Gender Equality Index')\n",
    "plt.ylabel('Frequency')\n",
    "plt.show()"
   ]
  },
  {
   "cell_type": "markdown",
   "metadata": {},
   "source": [
    "The gender equality index has a non-linear relationship. Therefore, we can calculate its correlation with Spearman function:"
   ]
  },
  {
   "cell_type": "code",
   "execution_count": 17,
   "metadata": {},
   "outputs": [
    {
     "name": "stdout",
     "output_type": "stream",
     "text": [
      "Spearman Correlation for gender equality: 0.47954017145391437\n",
      "P-value for gender equality index: 0.009818373308971012\n"
     ]
    }
   ],
   "source": [
    "#correlation and p-value only women and gender equality\n",
    "correlation_geidx, p_value_geidx = spearmanr(total_df['5_f_total'], total_df['GE-idx'])\n",
    "print(f'Spearman Correlation for gender equality: {correlation_geidx}')\n",
    "print(f'P-value for gender equality index: {p_value_geidx}')"
   ]
  },
  {
   "cell_type": "markdown",
   "metadata": {},
   "source": [
    "# 3. Correlation: Age groups"
   ]
  },
  {
   "cell_type": "markdown",
   "metadata": {},
   "source": [
    "For this, we will be using a new file which has information about the percentages of people with above basic digital skills per country per age group"
   ]
  },
  {
   "cell_type": "code",
   "execution_count": 18,
   "metadata": {},
   "outputs": [
    {
     "data": {
      "text/html": [
       "<div>\n",
       "<style scoped>\n",
       "    .dataframe tbody tr th:only-of-type {\n",
       "        vertical-align: middle;\n",
       "    }\n",
       "\n",
       "    .dataframe tbody tr th {\n",
       "        vertical-align: top;\n",
       "    }\n",
       "\n",
       "    .dataframe thead th {\n",
       "        text-align: right;\n",
       "    }\n",
       "</style>\n",
       "<table border=\"1\" class=\"dataframe\">\n",
       "  <thead>\n",
       "    <tr style=\"text-align: right;\">\n",
       "      <th></th>\n",
       "      <th>Country</th>\n",
       "      <th>y16_24</th>\n",
       "      <th>y25_34</th>\n",
       "      <th>y35_44</th>\n",
       "      <th>y45_54</th>\n",
       "      <th>y55_64</th>\n",
       "      <th>y65_74</th>\n",
       "    </tr>\n",
       "  </thead>\n",
       "  <tbody>\n",
       "    <tr>\n",
       "      <th>0</th>\n",
       "      <td>Austria</td>\n",
       "      <td>41.69</td>\n",
       "      <td>40.06</td>\n",
       "      <td>42.09</td>\n",
       "      <td>31.96</td>\n",
       "      <td>23.84</td>\n",
       "      <td>11.06</td>\n",
       "    </tr>\n",
       "    <tr>\n",
       "      <th>1</th>\n",
       "      <td>Belgium</td>\n",
       "      <td>32.99</td>\n",
       "      <td>42.93</td>\n",
       "      <td>34.44</td>\n",
       "      <td>27.24</td>\n",
       "      <td>18.06</td>\n",
       "      <td>12.61</td>\n",
       "    </tr>\n",
       "    <tr>\n",
       "      <th>2</th>\n",
       "      <td>Bulgaria</td>\n",
       "      <td>12.30</td>\n",
       "      <td>13.32</td>\n",
       "      <td>11.13</td>\n",
       "      <td>9.46</td>\n",
       "      <td>3.06</td>\n",
       "      <td>0.26</td>\n",
       "    </tr>\n",
       "    <tr>\n",
       "      <th>3</th>\n",
       "      <td>Croatia</td>\n",
       "      <td>34.41</td>\n",
       "      <td>47.46</td>\n",
       "      <td>45.02</td>\n",
       "      <td>21.89</td>\n",
       "      <td>8.67</td>\n",
       "      <td>2.74</td>\n",
       "    </tr>\n",
       "    <tr>\n",
       "      <th>4</th>\n",
       "      <td>Cyprus</td>\n",
       "      <td>31.97</td>\n",
       "      <td>35.22</td>\n",
       "      <td>31.92</td>\n",
       "      <td>25.28</td>\n",
       "      <td>13.53</td>\n",
       "      <td>2.68</td>\n",
       "    </tr>\n",
       "  </tbody>\n",
       "</table>\n",
       "</div>"
      ],
      "text/plain": [
       "    Country  y16_24  y25_34  y35_44  y45_54  y55_64  y65_74\n",
       "0   Austria   41.69   40.06   42.09   31.96   23.84   11.06\n",
       "1   Belgium   32.99   42.93   34.44   27.24   18.06   12.61\n",
       "2  Bulgaria   12.30   13.32   11.13    9.46    3.06    0.26\n",
       "3   Croatia   34.41   47.46   45.02   21.89    8.67    2.74\n",
       "4    Cyprus   31.97   35.22   31.92   25.28   13.53    2.68"
      ]
     },
     "execution_count": 18,
     "metadata": {},
     "output_type": "execute_result"
    }
   ],
   "source": [
    "age_group_df = pd.read_excel('agegroup.xlsx')\n",
    "age_group_df.head()"
   ]
  },
  {
   "cell_type": "code",
   "execution_count": 19,
   "metadata": {},
   "outputs": [
    {
     "data": {
      "text/plain": [
       "(27, 7)"
      ]
     },
     "execution_count": 19,
     "metadata": {},
     "output_type": "execute_result"
    }
   ],
   "source": [
    "age_group_df.shape"
   ]
  },
  {
   "cell_type": "code",
   "execution_count": 20,
   "metadata": {},
   "outputs": [
    {
     "name": "stdout",
     "output_type": "stream",
     "text": [
      "<class 'pandas.core.frame.DataFrame'>\n",
      "RangeIndex: 27 entries, 0 to 26\n",
      "Data columns (total 7 columns):\n",
      " #   Column   Non-Null Count  Dtype  \n",
      "---  ------   --------------  -----  \n",
      " 0   Country  27 non-null     object \n",
      " 1   y16_24   27 non-null     float64\n",
      " 2   y25_34   27 non-null     float64\n",
      " 3   y35_44   27 non-null     float64\n",
      " 4   y45_54   27 non-null     float64\n",
      " 5   y55_64   27 non-null     float64\n",
      " 6   y65_74   27 non-null     float64\n",
      "dtypes: float64(6), object(1)\n",
      "memory usage: 1.6+ KB\n"
     ]
    }
   ],
   "source": [
    "age_group_df.info()"
   ]
  },
  {
   "cell_type": "markdown",
   "metadata": {},
   "source": [
    "## 3.1 Plotting the data"
   ]
  },
  {
   "cell_type": "code",
   "execution_count": 21,
   "metadata": {},
   "outputs": [
    {
     "data": {
      "image/png": "[encoded data removed]",
      "text/plain": [
       "<Figure size 2000x500 with 6 Axes>"
      ]
     },
     "metadata": {},
     "output_type": "display_data"
    }
   ],
   "source": [
    "#lets get the distributions of the data\n",
    "plt.figure(figsize=(20, 5))\n",
    "\n",
    "plt.subplot(1, 6, 1)  # 1 row, 3 columns, 1st subplot\n",
    "plt.hist(age_group_df['y16_24'], bins=10, color='skyblue', edgecolor='black')\n",
    "plt.title('Histogram of 16-24')\n",
    "plt.xlabel('16-24yo')\n",
    "plt.ylabel('Frequency')\n",
    "\n",
    "\n",
    "#25-34\n",
    "plt.subplot(1, 6, 2)  # 1 row, 2 columns, 2st subplot\n",
    "plt.hist(age_group_df['y25_34'], bins=10, color='lightgreen', edgecolor='black')\n",
    "plt.title('Histogram of 25-34')\n",
    "plt.xlabel('25-34')\n",
    "plt.ylabel('Frequency')\n",
    "\n",
    "\n",
    "# 35-44\n",
    "plt.subplot(1, 6, 3)  # 1 row, 3 columns, 3rd subplot\n",
    "plt.hist(age_group_df['y35_44'], bins=10, color='salmon', edgecolor='black')\n",
    "plt.title('Histogram of 35-44')\n",
    "plt.xlabel('35-44')\n",
    "plt.ylabel('Frequency')\n",
    "\n",
    "\n",
    "#45-54\n",
    "plt.subplot(1, 6, 4)  # 2 row, 1 columns, 4th subplot\n",
    "plt.hist(age_group_df['y45_54'], bins=10, color='lightcoral', edgecolor='black')\n",
    "plt.title('Histogram of 45-54')\n",
    "plt.xlabel('45-54')\n",
    "plt.ylabel('Frequency')\n",
    "\n",
    "\n",
    "#55-64\n",
    "plt.subplot(1, 6, 5)  # 1 row, 4 columns, 4th subplot\n",
    "plt.hist(age_group_df['y55_64'], bins=10, color='lightcoral', edgecolor='black')\n",
    "plt.title('Histogram of 55-64')\n",
    "plt.xlabel('55-64')\n",
    "plt.ylabel('Frequency')\n",
    "\n",
    "\n",
    "#65-74\n",
    "plt.subplot(1, 6, 6)  # 1 row, 4 columns, 4th subplot\n",
    "plt.hist(age_group_df['y65_74'], bins=10, color='lightcoral', edgecolor='black')\n",
    "plt.title('Histogram of 65-74')\n",
    "plt.xlabel('65-74')\n",
    "plt.ylabel('Frequency')\n",
    "\n",
    "plt.tight_layout()\n",
    "plt.show()"
   ]
  },
  {
   "cell_type": "markdown",
   "metadata": {},
   "source": [
    "## 3.2 Checking for normality"
   ]
  },
  {
   "cell_type": "markdown",
   "metadata": {},
   "source": [
    "I want to confirm further if the data is normally distributed. For this, I will be using the Shapiro-Wilk test."
   ]
  },
  {
   "cell_type": "code",
   "execution_count": 22,
   "metadata": {},
   "outputs": [
    {
     "name": "stdout",
     "output_type": "stream",
     "text": [
      "Shapiro-Wilk test statistic: 0.9635897960072065\n",
      "p-value: 0.44442728849234375\n",
      "The data appears to be normally distributed\n"
     ]
    }
   ],
   "source": [
    "#16-24yo\n",
    "statistic, p_value_test = stats.shapiro(age_group_df['y16_24'])\n",
    "\n",
    "print(f\"Shapiro-Wilk test statistic: {statistic}\")\n",
    "print(f\"p-value: {p_value_test}\")\n",
    "if p_value_test > 0.05:\n",
    "    print(\"The data appears to be normally distributed\")\n",
    "else:\n",
    "    print(\"The data does not appear to be normally distributed\")"
   ]
  },
  {
   "cell_type": "code",
   "execution_count": 23,
   "metadata": {},
   "outputs": [
    {
     "name": "stdout",
     "output_type": "stream",
     "text": [
      "Shapiro-Wilk test statistic: 0.9670645103411035\n",
      "p-value: 0.5264208717321043\n",
      "The data appears to be normally distributed\n"
     ]
    }
   ],
   "source": [
    "#25-34yo\n",
    "statistic, p_value_test = stats.shapiro(age_group_df['y25_34'])\n",
    "\n",
    "print(f\"Shapiro-Wilk test statistic: {statistic}\")\n",
    "print(f\"p-value: {p_value_test}\")\n",
    "if p_value_test > 0.05:\n",
    "    print(\"The data appears to be normally distributed\")\n",
    "else:\n",
    "    print(\"The data does not appear to be normally distributed\")"
   ]
  },
  {
   "cell_type": "code",
   "execution_count": 24,
   "metadata": {},
   "outputs": [
    {
     "name": "stdout",
     "output_type": "stream",
     "text": [
      "Shapiro-Wilk test statistic: 0.9662907282051713\n",
      "p-value: 0.507409375381128\n",
      "The data appears to be normally distributed\n"
     ]
    }
   ],
   "source": [
    "#35-44yo\n",
    "statistic, p_value_test = stats.shapiro(age_group_df['y35_44'])\n",
    "\n",
    "print(f\"Shapiro-Wilk test statistic: {statistic}\")\n",
    "print(f\"p-value: {p_value_test}\")\n",
    "if p_value_test > 0.05:\n",
    "    print(\"The data appears to be normally distributed\")\n",
    "else:\n",
    "    print(\"The data does not appear to be normally distributed\")"
   ]
  },
  {
   "cell_type": "code",
   "execution_count": 25,
   "metadata": {},
   "outputs": [
    {
     "name": "stdout",
     "output_type": "stream",
     "text": [
      "Shapiro-Wilk test statistic: 0.9478104895000659\n",
      "p-value: 0.18961364960800042\n",
      "The data appears to be normally distributed\n"
     ]
    }
   ],
   "source": [
    "#45-54yo\n",
    "statistic, p_value_test = stats.shapiro(age_group_df['y45_54'])\n",
    "\n",
    "print(f\"Shapiro-Wilk test statistic: {statistic}\")\n",
    "print(f\"p-value: {p_value_test}\")\n",
    "if p_value_test > 0.05:\n",
    "    print(\"The data appears to be normally distributed\")\n",
    "else:\n",
    "    print(\"The data does not appear to be normally distributed\")"
   ]
  },
  {
   "cell_type": "code",
   "execution_count": 26,
   "metadata": {},
   "outputs": [
    {
     "name": "stdout",
     "output_type": "stream",
     "text": [
      "Shapiro-Wilk test statistic: 0.9340487741269361\n",
      "p-value: 0.08690452526647457\n",
      "The data appears to be normally distributed\n"
     ]
    }
   ],
   "source": [
    "#55-64yo\n",
    "statistic, p_value_test = stats.shapiro(age_group_df['y55_64'])\n",
    "\n",
    "print(f\"Shapiro-Wilk test statistic: {statistic}\")\n",
    "print(f\"p-value: {p_value_test}\")\n",
    "if p_value_test > 0.05:\n",
    "    print(\"The data appears to be normally distributed\")\n",
    "else:\n",
    "    print(\"The data does not appear to be normally distributed\")"
   ]
  },
  {
   "cell_type": "code",
   "execution_count": 27,
   "metadata": {},
   "outputs": [
    {
     "name": "stdout",
     "output_type": "stream",
     "text": [
      "Shapiro-Wilk test statistic: 0.8906668176653915\n",
      "p-value: 0.008233075680643609\n",
      "The data does not appear to be normally distributed\n"
     ]
    }
   ],
   "source": [
    "#65-74yo\n",
    "statistic, p_value_test = stats.shapiro(age_group_df['y65_74'])\n",
    "\n",
    "print(f\"Shapiro-Wilk test statistic: {statistic}\")\n",
    "print(f\"p-value: {p_value_test}\")\n",
    "if p_value_test > 0.05:\n",
    "    print(\"The data appears to be normally distributed\")\n",
    "else:\n",
    "    print(\"The data does not appear to be normally distributed\")"
   ]
  },
  {
   "cell_type": "markdown",
   "metadata": {},
   "source": [
    "The last age group seems to be not normally distributed. We are going to fix that and normalise it:"
   ]
  },
  {
   "cell_type": "code",
   "execution_count": 28,
   "metadata": {},
   "outputs": [],
   "source": [
    "age_group_df['y65_74_log'] = np.log(age_group_df['y65_74'])"
   ]
  },
  {
   "cell_type": "markdown",
   "metadata": {},
   "source": [
    "Now we use the Shapiro-Wilk test to check if this worked:"
   ]
  },
  {
   "cell_type": "code",
   "execution_count": 29,
   "metadata": {},
   "outputs": [
    {
     "name": "stdout",
     "output_type": "stream",
     "text": [
      "Shapiro-Wilk test statistic: 0.9437518464505434\n",
      "p-value: 0.15076427333853304\n",
      "The data appears to be normally distributed\n"
     ]
    }
   ],
   "source": [
    "statistic, p_value_test = stats.shapiro(age_group_df['y65_74_log'])\n",
    "\n",
    "print(f\"Shapiro-Wilk test statistic: {statistic}\")\n",
    "print(f\"p-value: {p_value_test}\")\n",
    "if p_value_test > 0.05:\n",
    "    print(\"The data appears to be normally distributed\")\n",
    "else:\n",
    "    print(\"The data does not appear to be normally distributed\")"
   ]
  },
  {
   "cell_type": "markdown",
   "metadata": {},
   "source": [
    "Now that all data points are normally distributed, we can use the pearson correlation functions. For this, we will read in another dataset showing the share of people with advanced digital skills per country so we can compare them and check for correlation."
   ]
  },
  {
   "cell_type": "code",
   "execution_count": 30,
   "metadata": {},
   "outputs": [
    {
     "data": {
      "text/html": [
       "<div>\n",
       "<style scoped>\n",
       "    .dataframe tbody tr th:only-of-type {\n",
       "        vertical-align: middle;\n",
       "    }\n",
       "\n",
       "    .dataframe tbody tr th {\n",
       "        vertical-align: top;\n",
       "    }\n",
       "\n",
       "    .dataframe thead th {\n",
       "        text-align: right;\n",
       "    }\n",
       "</style>\n",
       "<table border=\"1\" class=\"dataframe\">\n",
       "  <thead>\n",
       "    <tr style=\"text-align: right;\">\n",
       "      <th></th>\n",
       "      <th>Country</th>\n",
       "      <th>5G_total_23</th>\n",
       "      <th>5G_rural_23</th>\n",
       "      <th>nga_rural</th>\n",
       "      <th>nga_total</th>\n",
       "      <th>rural_ds</th>\n",
       "      <th>city_ds</th>\n",
       "      <th>5_f_total</th>\n",
       "      <th>5_m_total</th>\n",
       "      <th>total_ds</th>\n",
       "      <th>GE-idx</th>\n",
       "    </tr>\n",
       "  </thead>\n",
       "  <tbody>\n",
       "    <tr>\n",
       "      <th>0</th>\n",
       "      <td>Austria</td>\n",
       "      <td>79.1</td>\n",
       "      <td>41.5</td>\n",
       "      <td>71.1</td>\n",
       "      <td>94.2</td>\n",
       "      <td>27.15</td>\n",
       "      <td>32.18</td>\n",
       "      <td>28.02</td>\n",
       "      <td>36.09</td>\n",
       "      <td>32.055</td>\n",
       "      <td>71.2</td>\n",
       "    </tr>\n",
       "    <tr>\n",
       "      <th>1</th>\n",
       "      <td>Belgium</td>\n",
       "      <td>14.2</td>\n",
       "      <td>3.8</td>\n",
       "      <td>93.6</td>\n",
       "      <td>99.6</td>\n",
       "      <td>25.97</td>\n",
       "      <td>27.98</td>\n",
       "      <td>25.83</td>\n",
       "      <td>30.71</td>\n",
       "      <td>28.270</td>\n",
       "      <td>76.0</td>\n",
       "    </tr>\n",
       "    <tr>\n",
       "      <th>2</th>\n",
       "      <td>Bulgaria</td>\n",
       "      <td>45.1</td>\n",
       "      <td>11.3</td>\n",
       "      <td>82.3</td>\n",
       "      <td>95.8</td>\n",
       "      <td>4.04</td>\n",
       "      <td>4.44</td>\n",
       "      <td>7.66</td>\n",
       "      <td>7.81</td>\n",
       "      <td>7.735</td>\n",
       "      <td>65.1</td>\n",
       "    </tr>\n",
       "    <tr>\n",
       "      <th>3</th>\n",
       "      <td>Croatia</td>\n",
       "      <td>40.0</td>\n",
       "      <td>8.0</td>\n",
       "      <td>56.9</td>\n",
       "      <td>89.0</td>\n",
       "      <td>20.00</td>\n",
       "      <td>28.09</td>\n",
       "      <td>23.16</td>\n",
       "      <td>26.89</td>\n",
       "      <td>25.025</td>\n",
       "      <td>60.7</td>\n",
       "    </tr>\n",
       "    <tr>\n",
       "      <th>4</th>\n",
       "      <td>Cyprus</td>\n",
       "      <td>35.0</td>\n",
       "      <td>28.0</td>\n",
       "      <td>100.0</td>\n",
       "      <td>100.0</td>\n",
       "      <td>23.34</td>\n",
       "      <td>31.62</td>\n",
       "      <td>24.57</td>\n",
       "      <td>25.36</td>\n",
       "      <td>24.965</td>\n",
       "      <td>60.7</td>\n",
       "    </tr>\n",
       "  </tbody>\n",
       "</table>\n",
       "</div>"
      ],
      "text/plain": [
       "    Country  5G_total_23  5G_rural_23  nga_rural  nga_total  rural_ds  \\\n",
       "0   Austria         79.1         41.5       71.1       94.2     27.15   \n",
       "1   Belgium         14.2          3.8       93.6       99.6     25.97   \n",
       "2  Bulgaria         45.1         11.3       82.3       95.8      4.04   \n",
       "3   Croatia         40.0          8.0       56.9       89.0     20.00   \n",
       "4    Cyprus         35.0         28.0      100.0      100.0     23.34   \n",
       "\n",
       "   city_ds  5_f_total  5_m_total  total_ds  GE-idx  \n",
       "0    32.18      28.02      36.09    32.055    71.2  \n",
       "1    27.98      25.83      30.71    28.270    76.0  \n",
       "2     4.44       7.66       7.81     7.735    65.1  \n",
       "3    28.09      23.16      26.89    25.025    60.7  \n",
       "4    31.62      24.57      25.36    24.965    60.7  "
      ]
     },
     "execution_count": 30,
     "metadata": {},
     "output_type": "execute_result"
    }
   ],
   "source": [
    "abstract_df = pd.read_excel('abstract.xlsx')\n",
    "abstract_df.head()"
   ]
  },
  {
   "cell_type": "code",
   "execution_count": 31,
   "metadata": {},
   "outputs": [
    {
     "name": "stdout",
     "output_type": "stream",
     "text": [
      "Correlation between age 16-24 and total_ds: 0.8528308482342208, p-value: 1.6127739613541437e-08\n",
      "Correlation between age 25-34 and total_ds: 0.9437048792987602, p-value: 1.6240504401782467e-13\n",
      "Correlation between age 35-44 and total_ds: 0.9555456572756551, p-value: 9.049706769282355e-15\n",
      "Correlation between age 45-54 and total_ds: 0.9791250737507781, p-value: 8.0970500977327e-19\n",
      "Correlation between age 55-64 and total_ds: 0.929938067206334, p-value: 2.3201198981146473e-12\n",
      "Correlation between age 65-74 and total_ds: 0.8273526457236209, p-value: 1.0258264406380495e-07\n"
     ]
    }
   ],
   "source": [
    "# Calculate Pearson correlation and p-values\n",
    "correlation, p_value = stats.pearsonr(age_group_df['y16_24'], abstract_df['total_ds'])\n",
    "print(f\"Correlation between age 16-24 and total_ds: {correlation}, p-value: {p_value}\")\n",
    "\n",
    "correlation, p_value = stats.pearsonr(age_group_df['y25_34'], abstract_df['total_ds'])\n",
    "print(f\"Correlation between age 25-34 and total_ds: {correlation}, p-value: {p_value}\")\n",
    "\n",
    "correlation, p_value = stats.pearsonr(age_group_df['y35_44'], abstract_df['total_ds'])\n",
    "print(f\"Correlation between age 35-44 and total_ds: {correlation}, p-value: {p_value}\")\n",
    "\n",
    "correlation, p_value = stats.pearsonr(age_group_df['y45_54'], abstract_df['total_ds'])\n",
    "print(f\"Correlation between age 45-54 and total_ds: {correlation}, p-value: {p_value}\")\n",
    "\n",
    "correlation, p_value = stats.pearsonr(age_group_df['y55_64'], abstract_df['total_ds'])\n",
    "print(f\"Correlation between age 55-64 and total_ds: {correlation}, p-value: {p_value}\")\n",
    "\n",
    "correlation, p_value = stats.pearsonr(age_group_df['y65_74'], abstract_df['total_ds'])\n",
    "print(f\"Correlation between age 65-74 and total_ds: {correlation}, p-value: {p_value}\")\n",
    "\n"
   ]
  },
  {
   "cell_type": "markdown",
   "metadata": {},
   "source": [
    "Next, we want to check for all age groups"
   ]
  },
  {
   "cell_type": "code",
   "execution_count": 32,
   "metadata": {},
   "outputs": [],
   "source": [
    "age_group_columns = ['y16_24', 'y25_34', 'y35_44', 'y45_54', 'y55_64', 'y65_74']"
   ]
  },
  {
   "cell_type": "code",
   "execution_count": 33,
   "metadata": {},
   "outputs": [],
   "source": [
    "# Assign numbers to age groups (younger gets lower numbers)\n",
    "age_group_map = {'y16_24': 1, 'y25_34': 2, 'y35_44': 3, 'y45_54': 4, 'y55_64': 5, 'y65_74': 6}\n",
    "\n",
    "df_age_skills = age_group_df[age_group_columns].mean()\n",
    "df_age_mapped = pd.Series(age_group_map)"
   ]
  },
  {
   "cell_type": "code",
   "execution_count": 34,
   "metadata": {},
   "outputs": [
    {
     "name": "stdout",
     "output_type": "stream",
     "text": [
      "Correlation between age and digital skills: -0.9532315457180544\n",
      "P-value for the correlation: 0.003229784427081319\n"
     ]
    }
   ],
   "source": [
    "correlation_age_skills, p_value_age = pearsonr(df_age_mapped, df_age_skills)\n",
    "\n",
    "# Print the correlation and p-value\n",
    "print('Correlation between age and digital skills:', correlation_age_skills)\n",
    "print('P-value for the correlation:', p_value_age)"
   ]
  },
  {
   "cell_type": "markdown",
   "metadata": {},
   "source": [
    "# 4. Correlation: Internet Infrastructure"
   ]
  },
  {
   "cell_type": "markdown",
   "metadata": {},
   "source": [
    "We have divided the internet infrastructure into two groups: nga (next generation access = Fiber and Cable) and 5G (3.4-3.8 GHz)."
   ]
  },
  {
   "cell_type": "markdown",
   "metadata": {},
   "source": [
    "## 4.1 Plotting the data"
   ]
  },
  {
   "cell_type": "code",
   "execution_count": 35,
   "metadata": {},
   "outputs": [
    {
     "data": {
      "image/png": "[encoded data removed]",
      "text/plain": [
       "<Figure size 2000x500 with 4 Axes>"
      ]
     },
     "metadata": {},
     "output_type": "display_data"
    }
   ],
   "source": [
    "#lets get the distributions of the data\n",
    "plt.figure(figsize=(20, 5))\n",
    "\n",
    "plt.subplot(1, 4, 1)  # 1 row, 4 columns, 1st subplot\n",
    "plt.hist(abstract_df['nga_total'], bins=10, color='skyblue', edgecolor='black')\n",
    "plt.title('Histogram of NGA Total')\n",
    "plt.xlabel('NGA Total')\n",
    "plt.ylabel('Frequency')\n",
    "###left-skewed distribution\n",
    "\n",
    "#NGA Rural\n",
    "plt.subplot(1, 4, 2)  # 1 row, 4 columns, 2st subplot\n",
    "plt.hist(abstract_df['nga_rural'], bins=10, color='lightgreen', edgecolor='black')\n",
    "plt.title('Histogram of NGA Rural')\n",
    "plt.xlabel('NGA Rural')\n",
    "plt.ylabel('Frequency')\n",
    "## left-skewed distribution\n",
    "\n",
    "# 5G Total\n",
    "plt.subplot(1, 4, 3)  # 1 row, 4 columns, 3rd subplot\n",
    "plt.hist(abstract_df['5G_total_23'], bins=10, color='salmon', edgecolor='black')\n",
    "plt.title('Histogram of 5G Total')\n",
    "plt.xlabel('5G Total')\n",
    "plt.ylabel('Frequency')\n",
    "###slightly left--skewed distribution\n",
    "\n",
    "#5G Rural\n",
    "plt.subplot(1, 4, 4)  # 1 row, 4 columns, 4th subplot\n",
    "plt.hist(abstract_df['5G_rural_23'], bins=10, color='lightcoral', edgecolor='black')\n",
    "plt.title('Histogram of 5G Rural')\n",
    "plt.xlabel('5G Rural')\n",
    "plt.ylabel('Frequency')\n",
    "###right-skewed distribution\n",
    "\n",
    "plt.tight_layout()\n",
    "plt.show()"
   ]
  },
  {
   "cell_type": "markdown",
   "metadata": {},
   "source": [
    "## 4.2 Normality"
   ]
  },
  {
   "cell_type": "code",
   "execution_count": 36,
   "metadata": {},
   "outputs": [],
   "source": [
    "#since the data is skewed, next step is to normalize the data:\n",
    "\n",
    "# Apply log transformation (adding a small value to avoid log(0))\n",
    "abstract_df['log_nga_total'] = np.log1p(abstract_df['nga_total'])  # log(nga_total + 1)\n",
    "abstract_df['log_nga_rural'] = np.log1p(abstract_df['nga_rural'])\n",
    "abstract_df['log_5g_total'] = np.log1p(abstract_df['5G_total_23'])\n",
    "abstract_df['log_5g_rural'] = np.log1p(abstract_df['5G_rural_23'])\n"
   ]
  },
  {
   "cell_type": "code",
   "execution_count": 37,
   "metadata": {},
   "outputs": [
    {
     "name": "stdout",
     "output_type": "stream",
     "text": [
      "Correlation between log_nga_total and total_ds: 0.08806554692966101, p-value: 0.6622569273213584\n",
      "Correlation between log_nga_rural and rural_ds: 0.2942739499627867, p-value: 0.1362356420344954\n",
      "Correlation between log_5g_total and total_ds: -0.10439500498713389, p-value: 0.6043160316035138\n",
      "Correlation between log_5g_rural and rural_ds: 0.20291462813078734, p-value: 0.3100611156530327\n"
     ]
    }
   ],
   "source": [
    "# Calculate Pearson correlation and p-values\n",
    "correlation, p_value = stats.pearsonr(abstract_df['log_nga_total'], abstract_df['total_ds'])\n",
    "print(f\"Correlation between log_nga_total and total_ds: {correlation}, p-value: {p_value}\")\n",
    "\n",
    "correlation, p_value = stats.pearsonr(abstract_df['log_nga_rural'], abstract_df['rural_ds'])\n",
    "print(f\"Correlation between log_nga_rural and rural_ds: {correlation}, p-value: {p_value}\")\n",
    "\n",
    "correlation, p_value = stats.pearsonr(abstract_df['log_5g_total'], abstract_df['total_ds'])\n",
    "print(f\"Correlation between log_5g_total and total_ds: {correlation}, p-value: {p_value}\")\n",
    "\n",
    "correlation, p_value = stats.pearsonr(abstract_df['log_5g_rural'], abstract_df['rural_ds'])\n",
    "print(f\"Correlation between log_5g_rural and rural_ds: {correlation}, p-value: {p_value}\")\n"
   ]
  },
  {
   "cell_type": "markdown",
   "metadata": {},
   "source": [
    "# 5. Summary and Conclusion"
   ]
  },
  {
   "cell_type": "markdown",
   "metadata": {},
   "source": [
    "As a summary for our initial questions:\n",
    "1. Do countries with higher gender equality also have higher digital skills among women? The data suggests that there is a  correlation (0.5, p value = 0.0098) between gender equality and percentage of women with advanced digital skills. \n",
    "2. Are young people better digitally skilled? The results show that there is a negative correlation (-0.9532, p value = 0.0032) between age and percentage of people with advanced digital skills.\n",
    "3. Do people in countries with a better internet access also show more advanced digital skills? Our current analysis did not find any direct nor significant correlation between internet access and digital skills. A factor we could further consider is the price of this technology per country."
   ]
  }
 ],
 "metadata": {
  "kernelspec": {
   "display_name": "nf_sql",
   "language": "python",
   "name": "python3"
  },
  "language_info": {
   "codemirror_mode": {
    "name": "ipython",
    "version": 3
   },
   "file_extension": ".py",
   "mimetype": "text/x-python",
   "name": "python",
   "nbconvert_exporter": "python",
   "pygments_lexer": "ipython3",
   "version": "3.9.19"
  }
 },
 "nbformat": 4,
 "nbformat_minor": 2
}
